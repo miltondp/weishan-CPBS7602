{
 "cells": [
  {
   "cell_type": "markdown",
   "id": "de6c5a09-1209-4fdc-9fc2-2190c73baf63",
   "metadata": {},
   "source": [
    "# Lecture 1 \n",
    "\n",
    "Just to train some sci-kit learn supervisied model to ensure the environment is working"
   ]
  }
 ],
 "metadata": {
  "kernelspec": {
   "display_name": "R [conda env:cpbs7602] *",
   "language": "R",
   "name": "conda-env-cpbs7602-r"
  },
  "language_info": {
   "codemirror_mode": "r",
   "file_extension": ".r",
   "mimetype": "text/x-r-source",
   "name": "R",
   "pygments_lexer": "r",
   "version": "4.3.3"
  }
 },
 "nbformat": 4,
 "nbformat_minor": 5
}

{
 "cells": [
  {
   "cell_type": "markdown",
   "metadata": {},
   "source": [
    "# Lecture 05 regression hands-on\n",
    "\n",
    "Some minimal effort attempt at running some regression "
   ]
  },
  {
   "cell_type": "code",
   "execution_count": 1,
   "metadata": {
    "vscode": {
     "languageId": "r"
    }
   },
   "outputs": [
    {
     "name": "stderr",
     "output_type": "stream",
     "text": [
      "\n",
      "Attaching package: ‘dplyr’\n",
      "\n",
      "\n",
      "The following objects are masked from ‘package:stats’:\n",
      "\n",
      "    filter, lag\n",
      "\n",
      "\n",
      "The following objects are masked from ‘package:base’:\n",
      "\n",
      "    intersect, setdiff, setequal, union\n",
      "\n",
      "\n"
     ]
    }
   ],
   "source": [
    "library(dplyr)\n",
    "library(magrittr)\n",
    "library(ggplot2)"
   ]
  },
  {
   "cell_type": "code",
   "execution_count": 2,
   "metadata": {
    "vscode": {
     "languageId": "r"
    }
   },
   "outputs": [],
   "source": [
    "data_path <- \"./data/\"\n",
    "fungal_toxin_df <- read.table(paste0(data_path, \"fungalToxin.txt\"), header = TRUE, sep = \"\\t\")\n",
    "agewould_train_df <- read.csv(paste0(data_path, \"AgeWould_Train.csv\"))"
   ]
  },
  {
   "cell_type": "code",
   "execution_count": 3,
   "metadata": {
    "vscode": {
     "languageId": "r"
    }
   },
   "outputs": [
    {
     "data": {
      "text/html": [
       "<table class=\"dataframe\">\n",
       "<caption>A data.frame: 6 × 5</caption>\n",
       "<thead>\n",
       "\t<tr><th></th><th scope=col>rain</th><th scope=col>noon_temp</th><th scope=col>sunshine</th><th scope=col>wind_speed</th><th scope=col>toxin</th></tr>\n",
       "\t<tr><th></th><th scope=col>&lt;dbl&gt;</th><th scope=col>&lt;dbl&gt;</th><th scope=col>&lt;dbl&gt;</th><th scope=col>&lt;dbl&gt;</th><th scope=col>&lt;dbl&gt;</th></tr>\n",
       "</thead>\n",
       "<tbody>\n",
       "\t<tr><th scope=row>1</th><td>1.30</td><td>20.9</td><td> 6.23</td><td>13.3</td><td>18.1</td></tr>\n",
       "\t<tr><th scope=row>2</th><td>2.28</td><td>25.4</td><td> 8.13</td><td>10.8</td><td>28.6</td></tr>\n",
       "\t<tr><th scope=row>3</th><td>1.11</td><td>28.2</td><td>10.21</td><td>10.9</td><td>15.9</td></tr>\n",
       "\t<tr><th scope=row>4</th><td>0.74</td><td>23.7</td><td> 6.96</td><td> 8.2</td><td>19.2</td></tr>\n",
       "\t<tr><th scope=row>5</th><td>1.32</td><td>26.5</td><td> 9.04</td><td> 9.8</td><td>19.3</td></tr>\n",
       "\t<tr><th scope=row>6</th><td>0.51</td><td>23.9</td><td> 7.84</td><td>12.3</td><td>14.8</td></tr>\n",
       "</tbody>\n",
       "</table>\n"
      ],
      "text/latex": [
       "A data.frame: 6 × 5\n",
       "\\begin{tabular}{r|lllll}\n",
       "  & rain & noon\\_temp & sunshine & wind\\_speed & toxin\\\\\n",
       "  & <dbl> & <dbl> & <dbl> & <dbl> & <dbl>\\\\\n",
       "\\hline\n",
       "\t1 & 1.30 & 20.9 &  6.23 & 13.3 & 18.1\\\\\n",
       "\t2 & 2.28 & 25.4 &  8.13 & 10.8 & 28.6\\\\\n",
       "\t3 & 1.11 & 28.2 & 10.21 & 10.9 & 15.9\\\\\n",
       "\t4 & 0.74 & 23.7 &  6.96 &  8.2 & 19.2\\\\\n",
       "\t5 & 1.32 & 26.5 &  9.04 &  9.8 & 19.3\\\\\n",
       "\t6 & 0.51 & 23.9 &  7.84 & 12.3 & 14.8\\\\\n",
       "\\end{tabular}\n"
      ],
      "text/markdown": [
       "\n",
       "A data.frame: 6 × 5\n",
       "\n",
       "| <!--/--> | rain &lt;dbl&gt; | noon_temp &lt;dbl&gt; | sunshine &lt;dbl&gt; | wind_speed &lt;dbl&gt; | toxin &lt;dbl&gt; |\n",
       "|---|---|---|---|---|---|\n",
       "| 1 | 1.30 | 20.9 |  6.23 | 13.3 | 18.1 |\n",
       "| 2 | 2.28 | 25.4 |  8.13 | 10.8 | 28.6 |\n",
       "| 3 | 1.11 | 28.2 | 10.21 | 10.9 | 15.9 |\n",
       "| 4 | 0.74 | 23.7 |  6.96 |  8.2 | 19.2 |\n",
       "| 5 | 1.32 | 26.5 |  9.04 |  9.8 | 19.3 |\n",
       "| 6 | 0.51 | 23.9 |  7.84 | 12.3 | 14.8 |\n",
       "\n"
      ],
      "text/plain": [
       "  rain noon_temp sunshine wind_speed toxin\n",
       "1 1.30 20.9       6.23    13.3       18.1 \n",
       "2 2.28 25.4       8.13    10.8       28.6 \n",
       "3 1.11 28.2      10.21    10.9       15.9 \n",
       "4 0.74 23.7       6.96     8.2       19.2 \n",
       "5 1.32 26.5       9.04     9.8       19.3 \n",
       "6 0.51 23.9       7.84    12.3       14.8 "
      ]
     },
     "metadata": {},
     "output_type": "display_data"
    }
   ],
   "source": [
    "head(fungal_toxin_df)"
   ]
  },
  {
   "cell_type": "markdown",
   "metadata": {},
   "source": [
    "## Simple linear regression"
   ]
  },
  {
   "cell_type": "code",
   "execution_count": 4,
   "metadata": {
    "vscode": {
     "languageId": "r"
    }
   },
   "outputs": [
    {
     "data": {
      "text/plain": [
       "\n",
       "Call:\n",
       "lm(formula = toxin ~ rain, data = .)\n",
       "\n",
       "Residuals:\n",
       "    Min      1Q  Median      3Q     Max \n",
       "-2.9479 -1.1061 -0.3528  0.7596  3.6531 \n",
       "\n",
       "Coefficients:\n",
       "            Estimate Std. Error t value Pr(>|t|)    \n",
       "(Intercept)   10.570      1.961   5.390 0.000654 ***\n",
       "rain           6.726      1.356   4.961 0.001105 ** \n",
       "---\n",
       "Signif. codes:  0 ‘***’ 0.001 ‘**’ 0.01 ‘*’ 0.05 ‘.’ 0.1 ‘ ’ 1\n",
       "\n",
       "Residual standard error: 2.16 on 8 degrees of freedom\n",
       "Multiple R-squared:  0.7547,\tAdjusted R-squared:  0.724 \n",
       "F-statistic: 24.61 on 1 and 8 DF,  p-value: 0.001105\n"
      ]
     },
     "metadata": {},
     "output_type": "display_data"
    }
   ],
   "source": [
    "simple_lm <- fungal_toxin_df %>%\n",
    "    lm(formula = toxin ~ rain)\n",
    "summary(simple_lm)"
   ]
  },
  {
   "cell_type": "markdown",
   "metadata": {},
   "source": [
    "## Multiple Linear Regression"
   ]
  },
  {
   "cell_type": "code",
   "execution_count": 5,
   "metadata": {
    "vscode": {
     "languageId": "r"
    }
   },
   "outputs": [
    {
     "data": {
      "text/plain": [
       "\n",
       "Call:\n",
       "lm(formula = toxin ~ ., data = .)\n",
       "\n",
       "Residuals:\n",
       "      1       2       3       4       5       6       7       8       9      10 \n",
       "-1.8818  2.0498 -0.6314  0.4787 -0.5805  1.2508 -0.1921 -0.1813 -1.1552  0.8429 \n",
       "\n",
       "Coefficients:\n",
       "            Estimate Std. Error t value Pr(>|t|)    \n",
       "(Intercept)  31.6084     7.1051   4.449  0.00671 ** \n",
       "rain          7.0676     1.0031   7.046  0.00089 ***\n",
       "noon_temp    -0.4201     0.2413  -1.741  0.14215    \n",
       "sunshine     -0.2375     0.5086  -0.467  0.66018    \n",
       "wind_speed   -0.7936     0.2977  -2.666  0.04458 *  \n",
       "---\n",
       "Signif. codes:  0 ‘***’ 0.001 ‘**’ 0.01 ‘*’ 0.05 ‘.’ 0.1 ‘ ’ 1\n",
       "\n",
       "Residual standard error: 1.574 on 5 degrees of freedom\n",
       "Multiple R-squared:  0.9186,\tAdjusted R-squared:  0.8535 \n",
       "F-statistic: 14.11 on 4 and 5 DF,  p-value: 0.006232\n"
      ]
     },
     "metadata": {},
     "output_type": "display_data"
    }
   ],
   "source": [
    "multi_lm <- fungal_toxin_df %>%\n",
    "    lm(formula = toxin ~ .)\n",
    "summary(multi_lm)"
   ]
  },
  {
   "cell_type": "code",
   "execution_count": 6,
   "metadata": {
    "vscode": {
     "languageId": "r"
    }
   },
   "outputs": [
    {
     "data": {
      "text/plain": [
       "\n",
       "Call:\n",
       "lm(formula = toxin ~ temp_binary * rain, data = .)\n",
       "\n",
       "Residuals:\n",
       "    Min      1Q  Median      3Q     Max \n",
       "-1.7151 -0.9304 -0.1032  0.8287  2.3493 \n",
       "\n",
       "Coefficients:\n",
       "                 Estimate Std. Error t value Pr(>|t|)    \n",
       "(Intercept)        13.380      1.693   7.905 0.000217 ***\n",
       "temp_binary        -9.731      3.176  -3.064 0.022123 *  \n",
       "rain                4.690      1.292   3.629 0.010978 *  \n",
       "temp_binary:rain    6.345      2.144   2.960 0.025287 *  \n",
       "---\n",
       "Signif. codes:  0 ‘***’ 0.001 ‘**’ 0.01 ‘*’ 0.05 ‘.’ 0.1 ‘ ’ 1\n",
       "\n",
       "Residual standard error: 1.556 on 6 degrees of freedom\n",
       "Multiple R-squared:  0.9046,\tAdjusted R-squared:  0.8569 \n",
       "F-statistic: 18.96 on 3 and 6 DF,  p-value: 0.001831\n"
      ]
     },
     "metadata": {},
     "output_type": "display_data"
    }
   ],
   "source": [
    "multi_lm_inter <- fungal_toxin_df %>%\n",
    "    dplyr::mutate(temp_binary = ifelse(noon_temp >= median(noon_temp), 1, 0)) %>%\n",
    "    lm(formula = toxin ~ temp_binary * rain) \n",
    "summary(multi_lm_inter)"
   ]
  },
  {
   "cell_type": "markdown",
   "metadata": {},
   "source": [
    "## Logistic Regression"
   ]
  },
  {
   "cell_type": "code",
   "execution_count": 7,
   "metadata": {
    "vscode": {
     "languageId": "r"
    }
   },
   "outputs": [
    {
     "data": {
      "text/html": [
       "<table class=\"dataframe\">\n",
       "<caption>A data.frame: 6 × 3</caption>\n",
       "<thead>\n",
       "\t<tr><th></th><th scope=col>Age</th><th scope=col>Gender</th><th scope=col>Would_train</th></tr>\n",
       "\t<tr><th></th><th scope=col>&lt;int&gt;</th><th scope=col>&lt;chr&gt;</th><th scope=col>&lt;int&gt;</th></tr>\n",
       "</thead>\n",
       "<tbody>\n",
       "\t<tr><th scope=row>1</th><td>44</td><td>F</td><td>1</td></tr>\n",
       "\t<tr><th scope=row>2</th><td>25</td><td>F</td><td>1</td></tr>\n",
       "\t<tr><th scope=row>3</th><td>30</td><td>M</td><td>1</td></tr>\n",
       "\t<tr><th scope=row>4</th><td>27</td><td>F</td><td>1</td></tr>\n",
       "\t<tr><th scope=row>5</th><td>26</td><td>F</td><td>1</td></tr>\n",
       "\t<tr><th scope=row>6</th><td>46</td><td>M</td><td>0</td></tr>\n",
       "</tbody>\n",
       "</table>\n"
      ],
      "text/latex": [
       "A data.frame: 6 × 3\n",
       "\\begin{tabular}{r|lll}\n",
       "  & Age & Gender & Would\\_train\\\\\n",
       "  & <int> & <chr> & <int>\\\\\n",
       "\\hline\n",
       "\t1 & 44 & F & 1\\\\\n",
       "\t2 & 25 & F & 1\\\\\n",
       "\t3 & 30 & M & 1\\\\\n",
       "\t4 & 27 & F & 1\\\\\n",
       "\t5 & 26 & F & 1\\\\\n",
       "\t6 & 46 & M & 0\\\\\n",
       "\\end{tabular}\n"
      ],
      "text/markdown": [
       "\n",
       "A data.frame: 6 × 3\n",
       "\n",
       "| <!--/--> | Age &lt;int&gt; | Gender &lt;chr&gt; | Would_train &lt;int&gt; |\n",
       "|---|---|---|---|\n",
       "| 1 | 44 | F | 1 |\n",
       "| 2 | 25 | F | 1 |\n",
       "| 3 | 30 | M | 1 |\n",
       "| 4 | 27 | F | 1 |\n",
       "| 5 | 26 | F | 1 |\n",
       "| 6 | 46 | M | 0 |\n",
       "\n"
      ],
      "text/plain": [
       "  Age Gender Would_train\n",
       "1 44  F      1          \n",
       "2 25  F      1          \n",
       "3 30  M      1          \n",
       "4 27  F      1          \n",
       "5 26  F      1          \n",
       "6 46  M      0          "
      ]
     },
     "metadata": {},
     "output_type": "display_data"
    }
   ],
   "source": [
    "head(agewould_train_df)"
   ]
  },
  {
   "cell_type": "code",
   "execution_count": 8,
   "metadata": {
    "vscode": {
     "languageId": "r"
    }
   },
   "outputs": [
    {
     "data": {
      "text/plain": [
       "\n",
       "Call:\n",
       "glm(formula = Would_train ~ ., family = \"binomial\", data = .)\n",
       "\n",
       "Coefficients:\n",
       "            Estimate Std. Error z value Pr(>|z|)    \n",
       "(Intercept)  4.60567    0.62828   7.331 2.29e-13 ***\n",
       "Age         -0.09203    0.01372  -6.706 2.00e-11 ***\n",
       "GenderM     -0.01010    0.32196  -0.031    0.975    \n",
       "---\n",
       "Signif. codes:  0 ‘***’ 0.001 ‘**’ 0.01 ‘*’ 0.05 ‘.’ 0.1 ‘ ’ 1\n",
       "\n",
       "(Dispersion parameter for binomial family taken to be 1)\n",
       "\n",
       "    Null deviance: 314.70  on 235  degrees of freedom\n",
       "Residual deviance: 249.74  on 233  degrees of freedom\n",
       "AIC: 255.74\n",
       "\n",
       "Number of Fisher Scoring iterations: 4\n"
      ]
     },
     "metadata": {},
     "output_type": "display_data"
    }
   ],
   "source": [
    "logistic_lm <- agewould_train_df %>%\n",
    "    glm(formula = Would_train ~ ., family = \"binomial\")\n",
    "summary(logistic_lm)"
   ]
  },
  {
   "cell_type": "code",
   "execution_count": 9,
   "metadata": {
    "vscode": {
     "languageId": "r"
    }
   },
   "outputs": [
    {
     "name": "stderr",
     "output_type": "stream",
     "text": [
      "Waiting for profiling to be done...\n",
      "\n"
     ]
    },
    {
     "data": {
      "text/html": [
       "<table class=\"dataframe\">\n",
       "<caption>A matrix: 3 × 3 of type dbl</caption>\n",
       "<thead>\n",
       "\t<tr><th></th><th scope=col></th><th scope=col>2.5 %</th><th scope=col>97.5 %</th></tr>\n",
       "</thead>\n",
       "<tbody>\n",
       "\t<tr><th scope=row>(Intercept)</th><td> 4.60567404</td><td> 3.4330773</td><td> 5.90528146</td></tr>\n",
       "\t<tr><th scope=row>Age</th><td>-0.09203030</td><td>-0.1202520</td><td>-0.06626529</td></tr>\n",
       "\t<tr><th scope=row>GenderM</th><td>-0.01010163</td><td>-0.6368411</td><td> 0.62924877</td></tr>\n",
       "</tbody>\n",
       "</table>\n"
      ],
      "text/latex": [
       "A matrix: 3 × 3 of type dbl\n",
       "\\begin{tabular}{r|lll}\n",
       "  &  & 2.5 \\% & 97.5 \\%\\\\\n",
       "\\hline\n",
       "\t(Intercept) &  4.60567404 &  3.4330773 &  5.90528146\\\\\n",
       "\tAge & -0.09203030 & -0.1202520 & -0.06626529\\\\\n",
       "\tGenderM & -0.01010163 & -0.6368411 &  0.62924877\\\\\n",
       "\\end{tabular}\n"
      ],
      "text/markdown": [
       "\n",
       "A matrix: 3 × 3 of type dbl\n",
       "\n",
       "| <!--/--> | <!----> | 2.5 % | 97.5 % |\n",
       "|---|---|---|---|\n",
       "| (Intercept) |  4.60567404 |  3.4330773 |  5.90528146 |\n",
       "| Age | -0.09203030 | -0.1202520 | -0.06626529 |\n",
       "| GenderM | -0.01010163 | -0.6368411 |  0.62924877 |\n",
       "\n"
      ],
      "text/plain": [
       "                        2.5 %      97.5 %     \n",
       "(Intercept)  4.60567404  3.4330773  5.90528146\n",
       "Age         -0.09203030 -0.1202520 -0.06626529\n",
       "GenderM     -0.01010163 -0.6368411  0.62924877"
      ]
     },
     "metadata": {},
     "output_type": "display_data"
    }
   ],
   "source": [
    "cbind(coef(logistic_lm), confint(logistic_lm))"
   ]
  }
 ],
 "metadata": {
  "kernelspec": {
   "display_name": "R",
   "language": "R",
   "name": "ir"
  },
  "language_info": {
   "codemirror_mode": "r",
   "file_extension": ".r",
   "mimetype": "text/x-r-source",
   "name": "R",
   "pygments_lexer": "r",
   "version": "4.3.3"
  }
 },
 "nbformat": 4,
 "nbformat_minor": 2
}

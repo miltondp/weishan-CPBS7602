{
  "nbformat": 4,
  "nbformat_minor": 0,
  "metadata": {
    "colab": {
      "provenance": [],
      "machine_shape": "hm"
    },
    "kernelspec": {
      "name": "ir",
      "display_name": "R"
    },
    "language_info": {
      "name": "R"
    }
  },
  "cells": [
    {
      "cell_type": "markdown",
      "source": [
        "## Load Data"
      ],
      "metadata": {
        "id": "68MvjKcjSoiQ"
      }
    },
    {
      "cell_type": "code",
      "source": [
        "library(readr)\n",
        "Sys.setenv(\"VROOM_CONNECTION_SIZE\" = 131072 * 5)\n",
        "gtex_v8_features <- read_csv(\"gtex_v8_features.csv\")\n",
        "gtex_v8_features <- as.data.frame(gtex_v8_features)"
      ],
      "metadata": {
        "colab": {
          "base_uri": "https://localhost:8080/"
        },
        "id": "XGdApPQSejpU",
        "outputId": "342cf96f-d819-4124-8aac-741786629899"
      },
      "execution_count": 1,
      "outputs": [
        {
          "output_type": "stream",
          "name": "stderr",
          "text": [
            "\u001b[1mRows: \u001b[22m\u001b[34m4341\u001b[39m \u001b[1mColumns: \u001b[22m\u001b[34m3572\u001b[39m\n",
            "\u001b[36m──\u001b[39m \u001b[1mColumn specification\u001b[22m \u001b[36m────────────────────────────────────────────────────────\u001b[39m\n",
            "\u001b[1mDelimiter:\u001b[22m \",\"\n",
            "\u001b[31mchr\u001b[39m    (1): Name\n",
            "\u001b[32mdbl\u001b[39m (3571): GTEX-1117F-3226-SM-5N9CT, GTEX-111FC-3126-SM-5GZZ2, GTEX-111FC-3...\n",
            "\n",
            "\u001b[36mℹ\u001b[39m Use `spec()` to retrieve the full column specification for this data.\n",
            "\u001b[36mℹ\u001b[39m Specify the column types or set `show_col_types = FALSE` to quiet this message.\n"
          ]
        }
      ]
    },
    {
      "cell_type": "code",
      "source": [
        "if (any(duplicated(gtex_v8_features[,1]))) {\n",
        "  # If duplicates exist, make them unique (e.g., by adding a suffix)\n",
        "  gtex_v8_features$Name <- make.unique(gtex_v8_features$Name)\n",
        "}\n",
        "\n",
        "# Now assign row names\n",
        "rownames(gtex_v8_features) <- gtex_v8_features$Name\n",
        "gtex_v8_features <- gtex_v8_features[,-1]"
      ],
      "metadata": {
        "id": "v57wvfNCiYZP"
      },
      "execution_count": 2,
      "outputs": []
    },
    {
      "cell_type": "code",
      "source": [
        "head(gtex_v8_features)"
      ],
      "metadata": {
        "colab": {
          "base_uri": "https://localhost:8080/",
          "height": 393
        },
        "id": "kJg-8bMSehl8",
        "outputId": "cf7f2a96-b5ae-46e0-bd3a-8a8d9eaf9459"
      },
      "execution_count": 3,
      "outputs": [
        {
          "output_type": "display_data",
          "data": {
            "text/html": [
              "<table class=\"dataframe\">\n",
              "<caption>A data.frame: 6 × 3571</caption>\n",
              "<thead>\n",
              "\t<tr><th></th><th scope=col>GTEX-1117F-3226-SM-5N9CT</th><th scope=col>GTEX-111FC-3126-SM-5GZZ2</th><th scope=col>GTEX-111FC-3326-SM-5GZYV</th><th scope=col>GTEX-111YS-0006-SM-5NQBE</th><th scope=col>GTEX-1122O-0003-SM-5Q5DL</th><th scope=col>GTEX-1122O-0005-SM-5O99J</th><th scope=col>GTEX-1128S-0005-SM-5P9HI</th><th scope=col>GTEX-1128S-2726-SM-5H12C</th><th scope=col>GTEX-1128S-2826-SM-5N9DI</th><th scope=col>GTEX-113IC-0006-SM-5NQ9C</th><th scope=col>⋯</th><th scope=col>GTEX-ZXG5-0011-R5b-SM-57WBN</th><th scope=col>GTEX-ZXG5-0011-R6a-SM-57WBZ</th><th scope=col>GTEX-ZXG5-0011-R7b-SM-57WCC</th><th scope=col>GTEX-ZXG5-0011-R8a-SM-57WD1</th><th scope=col>GTEX-ZYFD-2926-SM-5GID9</th><th scope=col>GTEX-ZYFD-3026-SM-5E44C</th><th scope=col>GTEX-ZYY3-3026-SM-5GIEJ</th><th scope=col>GTEX-ZYY3-3126-SM-5SI9L</th><th scope=col>GTEX-ZZPT-2926-SM-5EQ5S</th><th scope=col>GTEX-ZZPT-3026-SM-5GZXH</th></tr>\n",
              "\t<tr><th></th><th scope=col>&lt;dbl&gt;</th><th scope=col>&lt;dbl&gt;</th><th scope=col>&lt;dbl&gt;</th><th scope=col>&lt;dbl&gt;</th><th scope=col>&lt;dbl&gt;</th><th scope=col>&lt;dbl&gt;</th><th scope=col>&lt;dbl&gt;</th><th scope=col>&lt;dbl&gt;</th><th scope=col>&lt;dbl&gt;</th><th scope=col>&lt;dbl&gt;</th><th scope=col>⋯</th><th scope=col>&lt;dbl&gt;</th><th scope=col>&lt;dbl&gt;</th><th scope=col>&lt;dbl&gt;</th><th scope=col>&lt;dbl&gt;</th><th scope=col>&lt;dbl&gt;</th><th scope=col>&lt;dbl&gt;</th><th scope=col>&lt;dbl&gt;</th><th scope=col>&lt;dbl&gt;</th><th scope=col>&lt;dbl&gt;</th><th scope=col>&lt;dbl&gt;</th></tr>\n",
              "</thead>\n",
              "<tbody>\n",
              "\t<tr><th scope=row>ENSG00000168137.15</th><td>18.39</td><td>28.73</td><td> 75.19</td><td> 10.37000</td><td> 56.24000</td><td> 21.6400</td><td> 37.2400</td><td>18.64</td><td> 54.86</td><td> 24.2900</td><td>⋯</td><td>13.110</td><td>15.810</td><td> 9.279</td><td> 9.097</td><td> 66.67</td><td>22.40</td><td> 68.83</td><td>25.45</td><td>55.75</td><td>20.12</td></tr>\n",
              "\t<tr><th scope=row>ENSG00000144550.12</th><td>32.46</td><td>41.45</td><td> 74.53</td><td>  0.03452</td><td>  0.03166</td><td>  0.1198</td><td>  0.4358</td><td>31.25</td><td> 62.51</td><td>  0.6124</td><td>⋯</td><td> 2.469</td><td> 1.503</td><td> 1.231</td><td> 4.109</td><td> 60.33</td><td>50.95</td><td> 42.87</td><td>18.36</td><td>54.34</td><td>27.81</td></tr>\n",
              "\t<tr><th scope=row>ENSG00000134072.10</th><td>44.12</td><td>74.58</td><td> 56.41</td><td> 45.52000</td><td>  3.50400</td><td> 19.1800</td><td> 22.9900</td><td>76.41</td><td> 49.67</td><td> 82.1600</td><td>⋯</td><td>43.660</td><td>68.150</td><td>19.550</td><td>21.010</td><td> 54.59</td><td>97.18</td><td> 45.28</td><td>64.68</td><td>40.53</td><td>56.89</td></tr>\n",
              "\t<tr><th scope=row>ENSG00000171148.13</th><td>49.81</td><td>59.31</td><td> 44.51</td><td> 96.17000</td><td> 54.53000</td><td>121.4000</td><td> 37.0800</td><td>46.69</td><td> 35.51</td><td>127.9000</td><td>⋯</td><td>33.670</td><td>37.420</td><td>27.720</td><td>25.480</td><td> 37.43</td><td>63.70</td><td> 40.87</td><td>49.69</td><td>39.89</td><td>59.21</td></tr>\n",
              "\t<tr><th scope=row>ENSG00000241553.12</th><td>65.27</td><td>73.35</td><td> 58.07</td><td>352.50000</td><td>221.80000</td><td>402.5000</td><td>121.1000</td><td>69.54</td><td> 57.89</td><td>355.0000</td><td>⋯</td><td>36.250</td><td>52.850</td><td>21.100</td><td>31.150</td><td> 49.35</td><td>85.22</td><td> 56.47</td><td>75.28</td><td>37.31</td><td>62.65</td></tr>\n",
              "\t<tr><th scope=row>ENSG00000163703.17</th><td>47.54</td><td>69.01</td><td>116.70</td><td>  4.28000</td><td> 14.92000</td><td>  3.8630</td><td> 14.4900</td><td>56.51</td><td>135.40</td><td> 17.2600</td><td>⋯</td><td>27.530</td><td>41.200</td><td>13.740</td><td>28.240</td><td>104.40</td><td>63.50</td><td>121.80</td><td>60.35</td><td>69.33</td><td>38.70</td></tr>\n",
              "</tbody>\n",
              "</table>\n"
            ],
            "text/markdown": "\nA data.frame: 6 × 3571\n\n| <!--/--> | GTEX-1117F-3226-SM-5N9CT &lt;dbl&gt; | GTEX-111FC-3126-SM-5GZZ2 &lt;dbl&gt; | GTEX-111FC-3326-SM-5GZYV &lt;dbl&gt; | GTEX-111YS-0006-SM-5NQBE &lt;dbl&gt; | GTEX-1122O-0003-SM-5Q5DL &lt;dbl&gt; | GTEX-1122O-0005-SM-5O99J &lt;dbl&gt; | GTEX-1128S-0005-SM-5P9HI &lt;dbl&gt; | GTEX-1128S-2726-SM-5H12C &lt;dbl&gt; | GTEX-1128S-2826-SM-5N9DI &lt;dbl&gt; | GTEX-113IC-0006-SM-5NQ9C &lt;dbl&gt; | ⋯ ⋯ | GTEX-ZXG5-0011-R5b-SM-57WBN &lt;dbl&gt; | GTEX-ZXG5-0011-R6a-SM-57WBZ &lt;dbl&gt; | GTEX-ZXG5-0011-R7b-SM-57WCC &lt;dbl&gt; | GTEX-ZXG5-0011-R8a-SM-57WD1 &lt;dbl&gt; | GTEX-ZYFD-2926-SM-5GID9 &lt;dbl&gt; | GTEX-ZYFD-3026-SM-5E44C &lt;dbl&gt; | GTEX-ZYY3-3026-SM-5GIEJ &lt;dbl&gt; | GTEX-ZYY3-3126-SM-5SI9L &lt;dbl&gt; | GTEX-ZZPT-2926-SM-5EQ5S &lt;dbl&gt; | GTEX-ZZPT-3026-SM-5GZXH &lt;dbl&gt; |\n|---|---|---|---|---|---|---|---|---|---|---|---|---|---|---|---|---|---|---|---|---|---|\n| ENSG00000168137.15 | 18.39 | 28.73 |  75.19 |  10.37000 |  56.24000 |  21.6400 |  37.2400 | 18.64 |  54.86 |  24.2900 | ⋯ | 13.110 | 15.810 |  9.279 |  9.097 |  66.67 | 22.40 |  68.83 | 25.45 | 55.75 | 20.12 |\n| ENSG00000144550.12 | 32.46 | 41.45 |  74.53 |   0.03452 |   0.03166 |   0.1198 |   0.4358 | 31.25 |  62.51 |   0.6124 | ⋯ |  2.469 |  1.503 |  1.231 |  4.109 |  60.33 | 50.95 |  42.87 | 18.36 | 54.34 | 27.81 |\n| ENSG00000134072.10 | 44.12 | 74.58 |  56.41 |  45.52000 |   3.50400 |  19.1800 |  22.9900 | 76.41 |  49.67 |  82.1600 | ⋯ | 43.660 | 68.150 | 19.550 | 21.010 |  54.59 | 97.18 |  45.28 | 64.68 | 40.53 | 56.89 |\n| ENSG00000171148.13 | 49.81 | 59.31 |  44.51 |  96.17000 |  54.53000 | 121.4000 |  37.0800 | 46.69 |  35.51 | 127.9000 | ⋯ | 33.670 | 37.420 | 27.720 | 25.480 |  37.43 | 63.70 |  40.87 | 49.69 | 39.89 | 59.21 |\n| ENSG00000241553.12 | 65.27 | 73.35 |  58.07 | 352.50000 | 221.80000 | 402.5000 | 121.1000 | 69.54 |  57.89 | 355.0000 | ⋯ | 36.250 | 52.850 | 21.100 | 31.150 |  49.35 | 85.22 |  56.47 | 75.28 | 37.31 | 62.65 |\n| ENSG00000163703.17 | 47.54 | 69.01 | 116.70 |   4.28000 |  14.92000 |   3.8630 |  14.4900 | 56.51 | 135.40 |  17.2600 | ⋯ | 27.530 | 41.200 | 13.740 | 28.240 | 104.40 | 63.50 | 121.80 | 60.35 | 69.33 | 38.70 |\n\n",
            "text/latex": "A data.frame: 6 × 3571\n\\begin{tabular}{r|lllllllllllllllllllll}\n  & GTEX-1117F-3226-SM-5N9CT & GTEX-111FC-3126-SM-5GZZ2 & GTEX-111FC-3326-SM-5GZYV & GTEX-111YS-0006-SM-5NQBE & GTEX-1122O-0003-SM-5Q5DL & GTEX-1122O-0005-SM-5O99J & GTEX-1128S-0005-SM-5P9HI & GTEX-1128S-2726-SM-5H12C & GTEX-1128S-2826-SM-5N9DI & GTEX-113IC-0006-SM-5NQ9C & ⋯ & GTEX-ZXG5-0011-R5b-SM-57WBN & GTEX-ZXG5-0011-R6a-SM-57WBZ & GTEX-ZXG5-0011-R7b-SM-57WCC & GTEX-ZXG5-0011-R8a-SM-57WD1 & GTEX-ZYFD-2926-SM-5GID9 & GTEX-ZYFD-3026-SM-5E44C & GTEX-ZYY3-3026-SM-5GIEJ & GTEX-ZYY3-3126-SM-5SI9L & GTEX-ZZPT-2926-SM-5EQ5S & GTEX-ZZPT-3026-SM-5GZXH\\\\\n  & <dbl> & <dbl> & <dbl> & <dbl> & <dbl> & <dbl> & <dbl> & <dbl> & <dbl> & <dbl> & ⋯ & <dbl> & <dbl> & <dbl> & <dbl> & <dbl> & <dbl> & <dbl> & <dbl> & <dbl> & <dbl>\\\\\n\\hline\n\tENSG00000168137.15 & 18.39 & 28.73 &  75.19 &  10.37000 &  56.24000 &  21.6400 &  37.2400 & 18.64 &  54.86 &  24.2900 & ⋯ & 13.110 & 15.810 &  9.279 &  9.097 &  66.67 & 22.40 &  68.83 & 25.45 & 55.75 & 20.12\\\\\n\tENSG00000144550.12 & 32.46 & 41.45 &  74.53 &   0.03452 &   0.03166 &   0.1198 &   0.4358 & 31.25 &  62.51 &   0.6124 & ⋯ &  2.469 &  1.503 &  1.231 &  4.109 &  60.33 & 50.95 &  42.87 & 18.36 & 54.34 & 27.81\\\\\n\tENSG00000134072.10 & 44.12 & 74.58 &  56.41 &  45.52000 &   3.50400 &  19.1800 &  22.9900 & 76.41 &  49.67 &  82.1600 & ⋯ & 43.660 & 68.150 & 19.550 & 21.010 &  54.59 & 97.18 &  45.28 & 64.68 & 40.53 & 56.89\\\\\n\tENSG00000171148.13 & 49.81 & 59.31 &  44.51 &  96.17000 &  54.53000 & 121.4000 &  37.0800 & 46.69 &  35.51 & 127.9000 & ⋯ & 33.670 & 37.420 & 27.720 & 25.480 &  37.43 & 63.70 &  40.87 & 49.69 & 39.89 & 59.21\\\\\n\tENSG00000241553.12 & 65.27 & 73.35 &  58.07 & 352.50000 & 221.80000 & 402.5000 & 121.1000 & 69.54 &  57.89 & 355.0000 & ⋯ & 36.250 & 52.850 & 21.100 & 31.150 &  49.35 & 85.22 &  56.47 & 75.28 & 37.31 & 62.65\\\\\n\tENSG00000163703.17 & 47.54 & 69.01 & 116.70 &   4.28000 &  14.92000 &   3.8630 &  14.4900 & 56.51 & 135.40 &  17.2600 & ⋯ & 27.530 & 41.200 & 13.740 & 28.240 & 104.40 & 63.50 & 121.80 & 60.35 & 69.33 & 38.70\\\\\n\\end{tabular}\n",
            "text/plain": [
              "                   GTEX-1117F-3226-SM-5N9CT GTEX-111FC-3126-SM-5GZZ2\n",
              "ENSG00000168137.15 18.39                    28.73                   \n",
              "ENSG00000144550.12 32.46                    41.45                   \n",
              "ENSG00000134072.10 44.12                    74.58                   \n",
              "ENSG00000171148.13 49.81                    59.31                   \n",
              "ENSG00000241553.12 65.27                    73.35                   \n",
              "ENSG00000163703.17 47.54                    69.01                   \n",
              "                   GTEX-111FC-3326-SM-5GZYV GTEX-111YS-0006-SM-5NQBE\n",
              "ENSG00000168137.15  75.19                    10.37000               \n",
              "ENSG00000144550.12  74.53                     0.03452               \n",
              "ENSG00000134072.10  56.41                    45.52000               \n",
              "ENSG00000171148.13  44.51                    96.17000               \n",
              "ENSG00000241553.12  58.07                   352.50000               \n",
              "ENSG00000163703.17 116.70                     4.28000               \n",
              "                   GTEX-1122O-0003-SM-5Q5DL GTEX-1122O-0005-SM-5O99J\n",
              "ENSG00000168137.15  56.24000                 21.6400                \n",
              "ENSG00000144550.12   0.03166                  0.1198                \n",
              "ENSG00000134072.10   3.50400                 19.1800                \n",
              "ENSG00000171148.13  54.53000                121.4000                \n",
              "ENSG00000241553.12 221.80000                402.5000                \n",
              "ENSG00000163703.17  14.92000                  3.8630                \n",
              "                   GTEX-1128S-0005-SM-5P9HI GTEX-1128S-2726-SM-5H12C\n",
              "ENSG00000168137.15  37.2400                 18.64                   \n",
              "ENSG00000144550.12   0.4358                 31.25                   \n",
              "ENSG00000134072.10  22.9900                 76.41                   \n",
              "ENSG00000171148.13  37.0800                 46.69                   \n",
              "ENSG00000241553.12 121.1000                 69.54                   \n",
              "ENSG00000163703.17  14.4900                 56.51                   \n",
              "                   GTEX-1128S-2826-SM-5N9DI GTEX-113IC-0006-SM-5NQ9C ⋯\n",
              "ENSG00000168137.15  54.86                    24.2900                 ⋯\n",
              "ENSG00000144550.12  62.51                     0.6124                 ⋯\n",
              "ENSG00000134072.10  49.67                    82.1600                 ⋯\n",
              "ENSG00000171148.13  35.51                   127.9000                 ⋯\n",
              "ENSG00000241553.12  57.89                   355.0000                 ⋯\n",
              "ENSG00000163703.17 135.40                    17.2600                 ⋯\n",
              "                   GTEX-ZXG5-0011-R5b-SM-57WBN GTEX-ZXG5-0011-R6a-SM-57WBZ\n",
              "ENSG00000168137.15 13.110                      15.810                     \n",
              "ENSG00000144550.12  2.469                       1.503                     \n",
              "ENSG00000134072.10 43.660                      68.150                     \n",
              "ENSG00000171148.13 33.670                      37.420                     \n",
              "ENSG00000241553.12 36.250                      52.850                     \n",
              "ENSG00000163703.17 27.530                      41.200                     \n",
              "                   GTEX-ZXG5-0011-R7b-SM-57WCC GTEX-ZXG5-0011-R8a-SM-57WD1\n",
              "ENSG00000168137.15  9.279                       9.097                     \n",
              "ENSG00000144550.12  1.231                       4.109                     \n",
              "ENSG00000134072.10 19.550                      21.010                     \n",
              "ENSG00000171148.13 27.720                      25.480                     \n",
              "ENSG00000241553.12 21.100                      31.150                     \n",
              "ENSG00000163703.17 13.740                      28.240                     \n",
              "                   GTEX-ZYFD-2926-SM-5GID9 GTEX-ZYFD-3026-SM-5E44C\n",
              "ENSG00000168137.15  66.67                  22.40                  \n",
              "ENSG00000144550.12  60.33                  50.95                  \n",
              "ENSG00000134072.10  54.59                  97.18                  \n",
              "ENSG00000171148.13  37.43                  63.70                  \n",
              "ENSG00000241553.12  49.35                  85.22                  \n",
              "ENSG00000163703.17 104.40                  63.50                  \n",
              "                   GTEX-ZYY3-3026-SM-5GIEJ GTEX-ZYY3-3126-SM-5SI9L\n",
              "ENSG00000168137.15  68.83                  25.45                  \n",
              "ENSG00000144550.12  42.87                  18.36                  \n",
              "ENSG00000134072.10  45.28                  64.68                  \n",
              "ENSG00000171148.13  40.87                  49.69                  \n",
              "ENSG00000241553.12  56.47                  75.28                  \n",
              "ENSG00000163703.17 121.80                  60.35                  \n",
              "                   GTEX-ZZPT-2926-SM-5EQ5S GTEX-ZZPT-3026-SM-5GZXH\n",
              "ENSG00000168137.15 55.75                   20.12                  \n",
              "ENSG00000144550.12 54.34                   27.81                  \n",
              "ENSG00000134072.10 40.53                   56.89                  \n",
              "ENSG00000171148.13 39.89                   59.21                  \n",
              "ENSG00000241553.12 37.31                   62.65                  \n",
              "ENSG00000163703.17 69.33                   38.70                  "
            ]
          },
          "metadata": {}
        }
      ]
    },
    {
      "cell_type": "code",
      "source": [
        "gtex_v8_target <- read_csv(\"gtex_v8_target.csv\")\n",
        "head(gtex_v8_target)"
      ],
      "metadata": {
        "colab": {
          "base_uri": "https://localhost:8080/",
          "height": 913
        },
        "id": "AS8CFxgTfkOm",
        "outputId": "771fc6a8-c8a2-48df-9e4c-d993da3356c4"
      },
      "execution_count": 4,
      "outputs": [
        {
          "output_type": "stream",
          "name": "stderr",
          "text": [
            "\u001b[1mRows: \u001b[22m\u001b[34m6806\u001b[39m \u001b[1mColumns: \u001b[22m\u001b[34m63\u001b[39m\n",
            "\u001b[36m──\u001b[39m \u001b[1mColumn specification\u001b[22m \u001b[36m────────────────────────────────────────────────────────\u001b[39m\n",
            "\u001b[1mDelimiter:\u001b[22m \",\"\n",
            "\u001b[31mchr\u001b[39m (14): SAMPID, SMCENTER, SMPTHNTS, SMTS, SMTSD, SMUBRID, SMNABTCH, SMNABT...\n",
            "\u001b[32mdbl\u001b[39m (41): SMATSSCR, SMRIN, SMTSISCH, SMTSPAX, SME2MPRT, SMCHMPRS, SMNTRART, ...\n",
            "\u001b[33mlgl\u001b[39m  (8): SMNUMGPS, SM550NRM, SM350NRM, SMMNCPB, SMMNCV, SMCGLGTH, SMGAPPCT,...\n",
            "\n",
            "\u001b[36mℹ\u001b[39m Use `spec()` to retrieve the full column specification for this data.\n",
            "\u001b[36mℹ\u001b[39m Specify the column types or set `show_col_types = FALSE` to quiet this message.\n"
          ]
        },
        {
          "output_type": "display_data",
          "data": {
            "text/html": [
              "<table class=\"dataframe\">\n",
              "<caption>A tibble: 6 × 63</caption>\n",
              "<thead>\n",
              "\t<tr><th scope=col>SAMPID</th><th scope=col>SMATSSCR</th><th scope=col>SMCENTER</th><th scope=col>SMPTHNTS</th><th scope=col>SMRIN</th><th scope=col>SMTS</th><th scope=col>SMTSD</th><th scope=col>SMUBRID</th><th scope=col>SMTSISCH</th><th scope=col>SMTSPAX</th><th scope=col>⋯</th><th scope=col>SME1ANTI</th><th scope=col>SMSPLTRD</th><th scope=col>SMBSMMRT</th><th scope=col>SME1SNSE</th><th scope=col>SME1PCTS</th><th scope=col>SMRRNART</th><th scope=col>SME1MPRT</th><th scope=col>SMNUM5CD</th><th scope=col>SMDPMPRT</th><th scope=col>SME2PCTS</th></tr>\n",
              "\t<tr><th scope=col>&lt;chr&gt;</th><th scope=col>&lt;dbl&gt;</th><th scope=col>&lt;chr&gt;</th><th scope=col>&lt;chr&gt;</th><th scope=col>&lt;dbl&gt;</th><th scope=col>&lt;chr&gt;</th><th scope=col>&lt;chr&gt;</th><th scope=col>&lt;chr&gt;</th><th scope=col>&lt;dbl&gt;</th><th scope=col>&lt;dbl&gt;</th><th scope=col>⋯</th><th scope=col>&lt;dbl&gt;</th><th scope=col>&lt;dbl&gt;</th><th scope=col>&lt;dbl&gt;</th><th scope=col>&lt;dbl&gt;</th><th scope=col>&lt;dbl&gt;</th><th scope=col>&lt;dbl&gt;</th><th scope=col>&lt;dbl&gt;</th><th scope=col>&lt;lgl&gt;</th><th scope=col>&lt;dbl&gt;</th><th scope=col>&lt;dbl&gt;</th></tr>\n",
              "</thead>\n",
              "<tbody>\n",
              "\t<tr><td>GTEX-1117F-0003-SM-58Q7G     </td><td>NA</td><td>B1    </td><td>NA      </td><td> NA</td><td>Blood</td><td>Whole Blood                 </td><td>0013756</td><td>1188</td><td> NA</td><td>⋯</td><td>      NA</td><td>     NA</td><td>        NA</td><td>      NA</td><td>    NA</td><td>       NA</td><td>      NA</td><td>NA</td><td>NA</td><td>    NA</td></tr>\n",
              "\t<tr><td>GTEX-1117F-0003-SM-5DWSB     </td><td>NA</td><td>B1    </td><td>NA      </td><td> NA</td><td>Blood</td><td>Whole Blood                 </td><td>0013756</td><td>1188</td><td> NA</td><td>⋯</td><td>      NA</td><td>     NA</td><td>        NA</td><td>      NA</td><td>    NA</td><td>       NA</td><td>      NA</td><td>NA</td><td>NA</td><td>    NA</td></tr>\n",
              "\t<tr><td>GTEX-1117F-0003-SM-6WBT7     </td><td>NA</td><td>B1    </td><td>NA      </td><td> NA</td><td>Blood</td><td>Whole Blood                 </td><td>0013756</td><td>1188</td><td> NA</td><td>⋯</td><td>      NA</td><td>     NA</td><td>        NA</td><td>      NA</td><td>    NA</td><td>       NA</td><td>      NA</td><td>NA</td><td>NA</td><td>    NA</td></tr>\n",
              "\t<tr><td>GTEX-1117F-0011-R10a-SM-AHZ7F</td><td>NA</td><td>B1, A1</td><td>NA      </td><td> NA</td><td>Brain</td><td>Brain - Frontal Cortex (BA9)</td><td>0009834</td><td>1193</td><td> NA</td><td>⋯</td><td>      NA</td><td>     NA</td><td>        NA</td><td>      NA</td><td>    NA</td><td>       NA</td><td>      NA</td><td>NA</td><td>NA</td><td>    NA</td></tr>\n",
              "\t<tr><td>GTEX-1117F-0011-R10b-SM-CYKQ8</td><td>NA</td><td>B1, A1</td><td>NA      </td><td>7.2</td><td>Brain</td><td>Brain - Frontal Cortex (BA9)</td><td>0009834</td><td>1193</td><td> NA</td><td>⋯</td><td>      NA</td><td>     NA</td><td>        NA</td><td>      NA</td><td>    NA</td><td>       NA</td><td>      NA</td><td>NA</td><td>NA</td><td>    NA</td></tr>\n",
              "\t<tr><td>GTEX-1117F-3226-SM-5N9CT     </td><td> 1</td><td>B1    </td><td>2 pieces</td><td>6.2</td><td>Brain</td><td>Brain - Cortex              </td><td>0001870</td><td>1418</td><td>931</td><td>⋯</td><td>17609900</td><td>8163850</td><td>0.00349458</td><td>17906900</td><td>50.418</td><td>0.0620363</td><td>0.993989</td><td>NA</td><td> 0</td><td>50.191</td></tr>\n",
              "</tbody>\n",
              "</table>\n"
            ],
            "text/markdown": "\nA tibble: 6 × 63\n\n| SAMPID &lt;chr&gt; | SMATSSCR &lt;dbl&gt; | SMCENTER &lt;chr&gt; | SMPTHNTS &lt;chr&gt; | SMRIN &lt;dbl&gt; | SMTS &lt;chr&gt; | SMTSD &lt;chr&gt; | SMUBRID &lt;chr&gt; | SMTSISCH &lt;dbl&gt; | SMTSPAX &lt;dbl&gt; | ⋯ ⋯ | SME1ANTI &lt;dbl&gt; | SMSPLTRD &lt;dbl&gt; | SMBSMMRT &lt;dbl&gt; | SME1SNSE &lt;dbl&gt; | SME1PCTS &lt;dbl&gt; | SMRRNART &lt;dbl&gt; | SME1MPRT &lt;dbl&gt; | SMNUM5CD &lt;lgl&gt; | SMDPMPRT &lt;dbl&gt; | SME2PCTS &lt;dbl&gt; |\n|---|---|---|---|---|---|---|---|---|---|---|---|---|---|---|---|---|---|---|---|---|\n| GTEX-1117F-0003-SM-58Q7G      | NA | B1     | NA       |  NA | Blood | Whole Blood                  | 0013756 | 1188 |  NA | ⋯ |       NA |      NA |         NA |       NA |     NA |        NA |       NA | NA | NA |     NA |\n| GTEX-1117F-0003-SM-5DWSB      | NA | B1     | NA       |  NA | Blood | Whole Blood                  | 0013756 | 1188 |  NA | ⋯ |       NA |      NA |         NA |       NA |     NA |        NA |       NA | NA | NA |     NA |\n| GTEX-1117F-0003-SM-6WBT7      | NA | B1     | NA       |  NA | Blood | Whole Blood                  | 0013756 | 1188 |  NA | ⋯ |       NA |      NA |         NA |       NA |     NA |        NA |       NA | NA | NA |     NA |\n| GTEX-1117F-0011-R10a-SM-AHZ7F | NA | B1, A1 | NA       |  NA | Brain | Brain - Frontal Cortex (BA9) | 0009834 | 1193 |  NA | ⋯ |       NA |      NA |         NA |       NA |     NA |        NA |       NA | NA | NA |     NA |\n| GTEX-1117F-0011-R10b-SM-CYKQ8 | NA | B1, A1 | NA       | 7.2 | Brain | Brain - Frontal Cortex (BA9) | 0009834 | 1193 |  NA | ⋯ |       NA |      NA |         NA |       NA |     NA |        NA |       NA | NA | NA |     NA |\n| GTEX-1117F-3226-SM-5N9CT      |  1 | B1     | 2 pieces | 6.2 | Brain | Brain - Cortex               | 0001870 | 1418 | 931 | ⋯ | 17609900 | 8163850 | 0.00349458 | 17906900 | 50.418 | 0.0620363 | 0.993989 | NA |  0 | 50.191 |\n\n",
            "text/latex": "A tibble: 6 × 63\n\\begin{tabular}{lllllllllllllllllllll}\n SAMPID & SMATSSCR & SMCENTER & SMPTHNTS & SMRIN & SMTS & SMTSD & SMUBRID & SMTSISCH & SMTSPAX & ⋯ & SME1ANTI & SMSPLTRD & SMBSMMRT & SME1SNSE & SME1PCTS & SMRRNART & SME1MPRT & SMNUM5CD & SMDPMPRT & SME2PCTS\\\\\n <chr> & <dbl> & <chr> & <chr> & <dbl> & <chr> & <chr> & <chr> & <dbl> & <dbl> & ⋯ & <dbl> & <dbl> & <dbl> & <dbl> & <dbl> & <dbl> & <dbl> & <lgl> & <dbl> & <dbl>\\\\\n\\hline\n\t GTEX-1117F-0003-SM-58Q7G      & NA & B1     & NA       &  NA & Blood & Whole Blood                  & 0013756 & 1188 &  NA & ⋯ &       NA &      NA &         NA &       NA &     NA &        NA &       NA & NA & NA &     NA\\\\\n\t GTEX-1117F-0003-SM-5DWSB      & NA & B1     & NA       &  NA & Blood & Whole Blood                  & 0013756 & 1188 &  NA & ⋯ &       NA &      NA &         NA &       NA &     NA &        NA &       NA & NA & NA &     NA\\\\\n\t GTEX-1117F-0003-SM-6WBT7      & NA & B1     & NA       &  NA & Blood & Whole Blood                  & 0013756 & 1188 &  NA & ⋯ &       NA &      NA &         NA &       NA &     NA &        NA &       NA & NA & NA &     NA\\\\\n\t GTEX-1117F-0011-R10a-SM-AHZ7F & NA & B1, A1 & NA       &  NA & Brain & Brain - Frontal Cortex (BA9) & 0009834 & 1193 &  NA & ⋯ &       NA &      NA &         NA &       NA &     NA &        NA &       NA & NA & NA &     NA\\\\\n\t GTEX-1117F-0011-R10b-SM-CYKQ8 & NA & B1, A1 & NA       & 7.2 & Brain & Brain - Frontal Cortex (BA9) & 0009834 & 1193 &  NA & ⋯ &       NA &      NA &         NA &       NA &     NA &        NA &       NA & NA & NA &     NA\\\\\n\t GTEX-1117F-3226-SM-5N9CT      &  1 & B1     & 2 pieces & 6.2 & Brain & Brain - Cortex               & 0001870 & 1418 & 931 & ⋯ & 17609900 & 8163850 & 0.00349458 & 17906900 & 50.418 & 0.0620363 & 0.993989 & NA &  0 & 50.191\\\\\n\\end{tabular}\n",
            "text/plain": [
              "  SAMPID                        SMATSSCR SMCENTER SMPTHNTS SMRIN SMTS \n",
              "1 GTEX-1117F-0003-SM-58Q7G      NA       B1       NA        NA   Blood\n",
              "2 GTEX-1117F-0003-SM-5DWSB      NA       B1       NA        NA   Blood\n",
              "3 GTEX-1117F-0003-SM-6WBT7      NA       B1       NA        NA   Blood\n",
              "4 GTEX-1117F-0011-R10a-SM-AHZ7F NA       B1, A1   NA        NA   Brain\n",
              "5 GTEX-1117F-0011-R10b-SM-CYKQ8 NA       B1, A1   NA       7.2   Brain\n",
              "6 GTEX-1117F-3226-SM-5N9CT       1       B1       2 pieces 6.2   Brain\n",
              "  SMTSD                        SMUBRID SMTSISCH SMTSPAX ⋯ SME1ANTI SMSPLTRD\n",
              "1 Whole Blood                  0013756 1188      NA     ⋯       NA      NA \n",
              "2 Whole Blood                  0013756 1188      NA     ⋯       NA      NA \n",
              "3 Whole Blood                  0013756 1188      NA     ⋯       NA      NA \n",
              "4 Brain - Frontal Cortex (BA9) 0009834 1193      NA     ⋯       NA      NA \n",
              "5 Brain - Frontal Cortex (BA9) 0009834 1193      NA     ⋯       NA      NA \n",
              "6 Brain - Cortex               0001870 1418     931     ⋯ 17609900 8163850 \n",
              "  SMBSMMRT   SME1SNSE SME1PCTS SMRRNART  SME1MPRT SMNUM5CD SMDPMPRT SME2PCTS\n",
              "1         NA       NA     NA          NA       NA NA       NA           NA  \n",
              "2         NA       NA     NA          NA       NA NA       NA           NA  \n",
              "3         NA       NA     NA          NA       NA NA       NA           NA  \n",
              "4         NA       NA     NA          NA       NA NA       NA           NA  \n",
              "5         NA       NA     NA          NA       NA NA       NA           NA  \n",
              "6 0.00349458 17906900 50.418   0.0620363 0.993989 NA        0       50.191  "
            ]
          },
          "metadata": {}
        }
      ]
    },
    {
      "cell_type": "code",
      "source": [
        "gtex_v8_subject_phenotypes <- read_tsv(\"https://storage.googleapis.com/adult-gtex/annotations/v8/metadata-files/GTEx_Analysis_v8_Annotations_SubjectPhenotypesDS.txt\")\n",
        "head(gtex_v8_subject_phenotypes)"
      ],
      "metadata": {
        "colab": {
          "base_uri": "https://localhost:8080/",
          "height": 425
        },
        "id": "QQx8lObXehj1",
        "outputId": "b34a9794-45a4-4d64-ae94-5936a57ea595"
      },
      "execution_count": 5,
      "outputs": [
        {
          "output_type": "stream",
          "name": "stderr",
          "text": [
            "\u001b[1mRows: \u001b[22m\u001b[34m980\u001b[39m \u001b[1mColumns: \u001b[22m\u001b[34m4\u001b[39m\n",
            "\u001b[36m──\u001b[39m \u001b[1mColumn specification\u001b[22m \u001b[36m────────────────────────────────────────────────────────\u001b[39m\n",
            "\u001b[1mDelimiter:\u001b[22m \"\\t\"\n",
            "\u001b[31mchr\u001b[39m (2): SUBJID, AGE\n",
            "\u001b[32mdbl\u001b[39m (2): SEX, DTHHRDY\n",
            "\n",
            "\u001b[36mℹ\u001b[39m Use `spec()` to retrieve the full column specification for this data.\n",
            "\u001b[36mℹ\u001b[39m Specify the column types or set `show_col_types = FALSE` to quiet this message.\n"
          ]
        },
        {
          "output_type": "display_data",
          "data": {
            "text/html": [
              "<table class=\"dataframe\">\n",
              "<caption>A tibble: 6 × 4</caption>\n",
              "<thead>\n",
              "\t<tr><th scope=col>SUBJID</th><th scope=col>SEX</th><th scope=col>AGE</th><th scope=col>DTHHRDY</th></tr>\n",
              "\t<tr><th scope=col>&lt;chr&gt;</th><th scope=col>&lt;dbl&gt;</th><th scope=col>&lt;chr&gt;</th><th scope=col>&lt;dbl&gt;</th></tr>\n",
              "</thead>\n",
              "<tbody>\n",
              "\t<tr><td>GTEX-1117F</td><td>2</td><td>60-69</td><td>4</td></tr>\n",
              "\t<tr><td>GTEX-111CU</td><td>1</td><td>50-59</td><td>0</td></tr>\n",
              "\t<tr><td>GTEX-111FC</td><td>1</td><td>60-69</td><td>1</td></tr>\n",
              "\t<tr><td>GTEX-111VG</td><td>1</td><td>60-69</td><td>3</td></tr>\n",
              "\t<tr><td>GTEX-111YS</td><td>1</td><td>60-69</td><td>0</td></tr>\n",
              "\t<tr><td>GTEX-1122O</td><td>2</td><td>60-69</td><td>0</td></tr>\n",
              "</tbody>\n",
              "</table>\n"
            ],
            "text/markdown": "\nA tibble: 6 × 4\n\n| SUBJID &lt;chr&gt; | SEX &lt;dbl&gt; | AGE &lt;chr&gt; | DTHHRDY &lt;dbl&gt; |\n|---|---|---|---|\n| GTEX-1117F | 2 | 60-69 | 4 |\n| GTEX-111CU | 1 | 50-59 | 0 |\n| GTEX-111FC | 1 | 60-69 | 1 |\n| GTEX-111VG | 1 | 60-69 | 3 |\n| GTEX-111YS | 1 | 60-69 | 0 |\n| GTEX-1122O | 2 | 60-69 | 0 |\n\n",
            "text/latex": "A tibble: 6 × 4\n\\begin{tabular}{llll}\n SUBJID & SEX & AGE & DTHHRDY\\\\\n <chr> & <dbl> & <chr> & <dbl>\\\\\n\\hline\n\t GTEX-1117F & 2 & 60-69 & 4\\\\\n\t GTEX-111CU & 1 & 50-59 & 0\\\\\n\t GTEX-111FC & 1 & 60-69 & 1\\\\\n\t GTEX-111VG & 1 & 60-69 & 3\\\\\n\t GTEX-111YS & 1 & 60-69 & 0\\\\\n\t GTEX-1122O & 2 & 60-69 & 0\\\\\n\\end{tabular}\n",
            "text/plain": [
              "  SUBJID     SEX AGE   DTHHRDY\n",
              "1 GTEX-1117F 2   60-69 4      \n",
              "2 GTEX-111CU 1   50-59 0      \n",
              "3 GTEX-111FC 1   60-69 1      \n",
              "4 GTEX-111VG 1   60-69 3      \n",
              "5 GTEX-111YS 1   60-69 0      \n",
              "6 GTEX-1122O 2   60-69 0      "
            ]
          },
          "metadata": {}
        }
      ]
    },
    {
      "cell_type": "markdown",
      "source": [
        "### Merge Sample level Tissue information metadata with Subject level metadata"
      ],
      "metadata": {
        "id": "RmZMDsnDfwyl"
      }
    },
    {
      "cell_type": "code",
      "source": [
        "gtex_v8_target <- gtex_v8_target |>\n",
        "  dplyr::mutate(SUBJID = stringr::str_extract(SAMPID, \"^[^-]*-[^-]*\"))\n",
        "gtex_v8_target <- dplyr::left_join(gtex_v8_target, gtex_v8_subject_phenotypes, by = \"SUBJID\")\n",
        "head(gtex_v8_target)"
      ],
      "metadata": {
        "colab": {
          "base_uri": "https://localhost:8080/",
          "height": 757
        },
        "id": "Hlsojp-cehhg",
        "outputId": "e071b8d5-cabd-4d41-e4ae-4f5239d7b220"
      },
      "execution_count": 6,
      "outputs": [
        {
          "output_type": "display_data",
          "data": {
            "text/html": [
              "<table class=\"dataframe\">\n",
              "<caption>A tibble: 6 × 67</caption>\n",
              "<thead>\n",
              "\t<tr><th scope=col>SAMPID</th><th scope=col>SMATSSCR</th><th scope=col>SMCENTER</th><th scope=col>SMPTHNTS</th><th scope=col>SMRIN</th><th scope=col>SMTS</th><th scope=col>SMTSD</th><th scope=col>SMUBRID</th><th scope=col>SMTSISCH</th><th scope=col>SMTSPAX</th><th scope=col>⋯</th><th scope=col>SME1PCTS</th><th scope=col>SMRRNART</th><th scope=col>SME1MPRT</th><th scope=col>SMNUM5CD</th><th scope=col>SMDPMPRT</th><th scope=col>SME2PCTS</th><th scope=col>SUBJID</th><th scope=col>SEX</th><th scope=col>AGE</th><th scope=col>DTHHRDY</th></tr>\n",
              "\t<tr><th scope=col>&lt;chr&gt;</th><th scope=col>&lt;dbl&gt;</th><th scope=col>&lt;chr&gt;</th><th scope=col>&lt;chr&gt;</th><th scope=col>&lt;dbl&gt;</th><th scope=col>&lt;chr&gt;</th><th scope=col>&lt;chr&gt;</th><th scope=col>&lt;chr&gt;</th><th scope=col>&lt;dbl&gt;</th><th scope=col>&lt;dbl&gt;</th><th scope=col>⋯</th><th scope=col>&lt;dbl&gt;</th><th scope=col>&lt;dbl&gt;</th><th scope=col>&lt;dbl&gt;</th><th scope=col>&lt;lgl&gt;</th><th scope=col>&lt;dbl&gt;</th><th scope=col>&lt;dbl&gt;</th><th scope=col>&lt;chr&gt;</th><th scope=col>&lt;dbl&gt;</th><th scope=col>&lt;chr&gt;</th><th scope=col>&lt;dbl&gt;</th></tr>\n",
              "</thead>\n",
              "<tbody>\n",
              "\t<tr><td>GTEX-1117F-0003-SM-58Q7G     </td><td>NA</td><td>B1    </td><td>NA      </td><td> NA</td><td>Blood</td><td>Whole Blood                 </td><td>0013756</td><td>1188</td><td> NA</td><td>⋯</td><td>    NA</td><td>       NA</td><td>      NA</td><td>NA</td><td>NA</td><td>    NA</td><td>GTEX-1117F</td><td>2</td><td>60-69</td><td>4</td></tr>\n",
              "\t<tr><td>GTEX-1117F-0003-SM-5DWSB     </td><td>NA</td><td>B1    </td><td>NA      </td><td> NA</td><td>Blood</td><td>Whole Blood                 </td><td>0013756</td><td>1188</td><td> NA</td><td>⋯</td><td>    NA</td><td>       NA</td><td>      NA</td><td>NA</td><td>NA</td><td>    NA</td><td>GTEX-1117F</td><td>2</td><td>60-69</td><td>4</td></tr>\n",
              "\t<tr><td>GTEX-1117F-0003-SM-6WBT7     </td><td>NA</td><td>B1    </td><td>NA      </td><td> NA</td><td>Blood</td><td>Whole Blood                 </td><td>0013756</td><td>1188</td><td> NA</td><td>⋯</td><td>    NA</td><td>       NA</td><td>      NA</td><td>NA</td><td>NA</td><td>    NA</td><td>GTEX-1117F</td><td>2</td><td>60-69</td><td>4</td></tr>\n",
              "\t<tr><td>GTEX-1117F-0011-R10a-SM-AHZ7F</td><td>NA</td><td>B1, A1</td><td>NA      </td><td> NA</td><td>Brain</td><td>Brain - Frontal Cortex (BA9)</td><td>0009834</td><td>1193</td><td> NA</td><td>⋯</td><td>    NA</td><td>       NA</td><td>      NA</td><td>NA</td><td>NA</td><td>    NA</td><td>GTEX-1117F</td><td>2</td><td>60-69</td><td>4</td></tr>\n",
              "\t<tr><td>GTEX-1117F-0011-R10b-SM-CYKQ8</td><td>NA</td><td>B1, A1</td><td>NA      </td><td>7.2</td><td>Brain</td><td>Brain - Frontal Cortex (BA9)</td><td>0009834</td><td>1193</td><td> NA</td><td>⋯</td><td>    NA</td><td>       NA</td><td>      NA</td><td>NA</td><td>NA</td><td>    NA</td><td>GTEX-1117F</td><td>2</td><td>60-69</td><td>4</td></tr>\n",
              "\t<tr><td>GTEX-1117F-3226-SM-5N9CT     </td><td> 1</td><td>B1    </td><td>2 pieces</td><td>6.2</td><td>Brain</td><td>Brain - Cortex              </td><td>0001870</td><td>1418</td><td>931</td><td>⋯</td><td>50.418</td><td>0.0620363</td><td>0.993989</td><td>NA</td><td> 0</td><td>50.191</td><td>GTEX-1117F</td><td>2</td><td>60-69</td><td>4</td></tr>\n",
              "</tbody>\n",
              "</table>\n"
            ],
            "text/markdown": "\nA tibble: 6 × 67\n\n| SAMPID &lt;chr&gt; | SMATSSCR &lt;dbl&gt; | SMCENTER &lt;chr&gt; | SMPTHNTS &lt;chr&gt; | SMRIN &lt;dbl&gt; | SMTS &lt;chr&gt; | SMTSD &lt;chr&gt; | SMUBRID &lt;chr&gt; | SMTSISCH &lt;dbl&gt; | SMTSPAX &lt;dbl&gt; | ⋯ ⋯ | SME1PCTS &lt;dbl&gt; | SMRRNART &lt;dbl&gt; | SME1MPRT &lt;dbl&gt; | SMNUM5CD &lt;lgl&gt; | SMDPMPRT &lt;dbl&gt; | SME2PCTS &lt;dbl&gt; | SUBJID &lt;chr&gt; | SEX &lt;dbl&gt; | AGE &lt;chr&gt; | DTHHRDY &lt;dbl&gt; |\n|---|---|---|---|---|---|---|---|---|---|---|---|---|---|---|---|---|---|---|---|---|\n| GTEX-1117F-0003-SM-58Q7G      | NA | B1     | NA       |  NA | Blood | Whole Blood                  | 0013756 | 1188 |  NA | ⋯ |     NA |        NA |       NA | NA | NA |     NA | GTEX-1117F | 2 | 60-69 | 4 |\n| GTEX-1117F-0003-SM-5DWSB      | NA | B1     | NA       |  NA | Blood | Whole Blood                  | 0013756 | 1188 |  NA | ⋯ |     NA |        NA |       NA | NA | NA |     NA | GTEX-1117F | 2 | 60-69 | 4 |\n| GTEX-1117F-0003-SM-6WBT7      | NA | B1     | NA       |  NA | Blood | Whole Blood                  | 0013756 | 1188 |  NA | ⋯ |     NA |        NA |       NA | NA | NA |     NA | GTEX-1117F | 2 | 60-69 | 4 |\n| GTEX-1117F-0011-R10a-SM-AHZ7F | NA | B1, A1 | NA       |  NA | Brain | Brain - Frontal Cortex (BA9) | 0009834 | 1193 |  NA | ⋯ |     NA |        NA |       NA | NA | NA |     NA | GTEX-1117F | 2 | 60-69 | 4 |\n| GTEX-1117F-0011-R10b-SM-CYKQ8 | NA | B1, A1 | NA       | 7.2 | Brain | Brain - Frontal Cortex (BA9) | 0009834 | 1193 |  NA | ⋯ |     NA |        NA |       NA | NA | NA |     NA | GTEX-1117F | 2 | 60-69 | 4 |\n| GTEX-1117F-3226-SM-5N9CT      |  1 | B1     | 2 pieces | 6.2 | Brain | Brain - Cortex               | 0001870 | 1418 | 931 | ⋯ | 50.418 | 0.0620363 | 0.993989 | NA |  0 | 50.191 | GTEX-1117F | 2 | 60-69 | 4 |\n\n",
            "text/latex": "A tibble: 6 × 67\n\\begin{tabular}{lllllllllllllllllllll}\n SAMPID & SMATSSCR & SMCENTER & SMPTHNTS & SMRIN & SMTS & SMTSD & SMUBRID & SMTSISCH & SMTSPAX & ⋯ & SME1PCTS & SMRRNART & SME1MPRT & SMNUM5CD & SMDPMPRT & SME2PCTS & SUBJID & SEX & AGE & DTHHRDY\\\\\n <chr> & <dbl> & <chr> & <chr> & <dbl> & <chr> & <chr> & <chr> & <dbl> & <dbl> & ⋯ & <dbl> & <dbl> & <dbl> & <lgl> & <dbl> & <dbl> & <chr> & <dbl> & <chr> & <dbl>\\\\\n\\hline\n\t GTEX-1117F-0003-SM-58Q7G      & NA & B1     & NA       &  NA & Blood & Whole Blood                  & 0013756 & 1188 &  NA & ⋯ &     NA &        NA &       NA & NA & NA &     NA & GTEX-1117F & 2 & 60-69 & 4\\\\\n\t GTEX-1117F-0003-SM-5DWSB      & NA & B1     & NA       &  NA & Blood & Whole Blood                  & 0013756 & 1188 &  NA & ⋯ &     NA &        NA &       NA & NA & NA &     NA & GTEX-1117F & 2 & 60-69 & 4\\\\\n\t GTEX-1117F-0003-SM-6WBT7      & NA & B1     & NA       &  NA & Blood & Whole Blood                  & 0013756 & 1188 &  NA & ⋯ &     NA &        NA &       NA & NA & NA &     NA & GTEX-1117F & 2 & 60-69 & 4\\\\\n\t GTEX-1117F-0011-R10a-SM-AHZ7F & NA & B1, A1 & NA       &  NA & Brain & Brain - Frontal Cortex (BA9) & 0009834 & 1193 &  NA & ⋯ &     NA &        NA &       NA & NA & NA &     NA & GTEX-1117F & 2 & 60-69 & 4\\\\\n\t GTEX-1117F-0011-R10b-SM-CYKQ8 & NA & B1, A1 & NA       & 7.2 & Brain & Brain - Frontal Cortex (BA9) & 0009834 & 1193 &  NA & ⋯ &     NA &        NA &       NA & NA & NA &     NA & GTEX-1117F & 2 & 60-69 & 4\\\\\n\t GTEX-1117F-3226-SM-5N9CT      &  1 & B1     & 2 pieces & 6.2 & Brain & Brain - Cortex               & 0001870 & 1418 & 931 & ⋯ & 50.418 & 0.0620363 & 0.993989 & NA &  0 & 50.191 & GTEX-1117F & 2 & 60-69 & 4\\\\\n\\end{tabular}\n",
            "text/plain": [
              "  SAMPID                        SMATSSCR SMCENTER SMPTHNTS SMRIN SMTS \n",
              "1 GTEX-1117F-0003-SM-58Q7G      NA       B1       NA        NA   Blood\n",
              "2 GTEX-1117F-0003-SM-5DWSB      NA       B1       NA        NA   Blood\n",
              "3 GTEX-1117F-0003-SM-6WBT7      NA       B1       NA        NA   Blood\n",
              "4 GTEX-1117F-0011-R10a-SM-AHZ7F NA       B1, A1   NA        NA   Brain\n",
              "5 GTEX-1117F-0011-R10b-SM-CYKQ8 NA       B1, A1   NA       7.2   Brain\n",
              "6 GTEX-1117F-3226-SM-5N9CT       1       B1       2 pieces 6.2   Brain\n",
              "  SMTSD                        SMUBRID SMTSISCH SMTSPAX ⋯ SME1PCTS SMRRNART \n",
              "1 Whole Blood                  0013756 1188      NA     ⋯     NA          NA\n",
              "2 Whole Blood                  0013756 1188      NA     ⋯     NA          NA\n",
              "3 Whole Blood                  0013756 1188      NA     ⋯     NA          NA\n",
              "4 Brain - Frontal Cortex (BA9) 0009834 1193      NA     ⋯     NA          NA\n",
              "5 Brain - Frontal Cortex (BA9) 0009834 1193      NA     ⋯     NA          NA\n",
              "6 Brain - Cortex               0001870 1418     931     ⋯ 50.418   0.0620363\n",
              "  SME1MPRT SMNUM5CD SMDPMPRT SME2PCTS SUBJID     SEX AGE   DTHHRDY\n",
              "1       NA NA       NA           NA   GTEX-1117F 2   60-69 4      \n",
              "2       NA NA       NA           NA   GTEX-1117F 2   60-69 4      \n",
              "3       NA NA       NA           NA   GTEX-1117F 2   60-69 4      \n",
              "4       NA NA       NA           NA   GTEX-1117F 2   60-69 4      \n",
              "5       NA NA       NA           NA   GTEX-1117F 2   60-69 4      \n",
              "6 0.993989 NA        0       50.191   GTEX-1117F 2   60-69 4      "
            ]
          },
          "metadata": {}
        }
      ]
    },
    {
      "cell_type": "markdown",
      "source": [
        "### Retain only the intersection of the target dataframe and the feature dataframe"
      ],
      "metadata": {
        "id": "7fyep8OHg-Yg"
      }
    },
    {
      "cell_type": "code",
      "source": [
        "common_samples <- intersect(gtex_v8_target$SAMPID, colnames(gtex_v8_features))\n",
        "print(length(common_samples))\n",
        "Y <- as.data.frame(t(gtex_v8_features))\n",
        "rownames(Y) <- colnames(gtex_v8_features)\n",
        "colnames(Y) <- rownames(gtex_v8_features)\n",
        "Y <- Y[rownames(Y) %in% common_samples, ]\n",
        "head(Y)"
      ],
      "metadata": {
        "colab": {
          "base_uri": "https://localhost:8080/",
          "height": 740
        },
        "id": "j1I1UiIrg8CY",
        "outputId": "23f8569f-7ac9-4027-f543-4921476691b5"
      },
      "execution_count": 7,
      "outputs": [
        {
          "output_type": "stream",
          "name": "stdout",
          "text": [
            "[1] 3571\n"
          ]
        },
        {
          "output_type": "display_data",
          "data": {
            "text/html": [
              "<table class=\"dataframe\">\n",
              "<caption>A data.frame: 6 × 4341</caption>\n",
              "<thead>\n",
              "\t<tr><th></th><th scope=col>ENSG00000168137.15</th><th scope=col>ENSG00000144550.12</th><th scope=col>ENSG00000134072.10</th><th scope=col>ENSG00000171148.13</th><th scope=col>ENSG00000241553.12</th><th scope=col>ENSG00000163703.17</th><th scope=col>ENSG00000254999.3</th><th scope=col>ENSG00000157020.17</th><th scope=col>ENSG00000157087.17</th><th scope=col>ENSG00000132164.9</th><th scope=col>⋯</th><th scope=col>ENSG00000155368.16</th><th scope=col>ENSG00000144118.13</th><th scope=col>ENSG00000136732.14</th><th scope=col>ENSG00000136717.14</th><th scope=col>ENSG00000163161.12</th><th scope=col>ENSG00000136720.6</th><th scope=col>ENSG00000152082.13</th><th scope=col>ENSG00000136710.9</th><th scope=col>ENSG00000136718.9</th><th scope=col>ENSG00000072135.12</th></tr>\n",
              "\t<tr><th></th><th scope=col>&lt;dbl&gt;</th><th scope=col>&lt;dbl&gt;</th><th scope=col>&lt;dbl&gt;</th><th scope=col>&lt;dbl&gt;</th><th scope=col>&lt;dbl&gt;</th><th scope=col>&lt;dbl&gt;</th><th scope=col>&lt;dbl&gt;</th><th scope=col>&lt;dbl&gt;</th><th scope=col>&lt;dbl&gt;</th><th scope=col>&lt;dbl&gt;</th><th scope=col>⋯</th><th scope=col>&lt;dbl&gt;</th><th scope=col>&lt;dbl&gt;</th><th scope=col>&lt;dbl&gt;</th><th scope=col>&lt;dbl&gt;</th><th scope=col>&lt;dbl&gt;</th><th scope=col>&lt;dbl&gt;</th><th scope=col>&lt;dbl&gt;</th><th scope=col>&lt;dbl&gt;</th><th scope=col>&lt;dbl&gt;</th><th scope=col>&lt;dbl&gt;</th></tr>\n",
              "</thead>\n",
              "<tbody>\n",
              "\t<tr><th scope=row>GTEX-1117F-3226-SM-5N9CT</th><td>18.39</td><td>32.46000</td><td>44.120</td><td> 49.81</td><td> 65.27</td><td> 47.540</td><td>148.4</td><td> 32.88</td><td> 37.31000</td><td>13.830000</td><td>⋯</td><td>105.40</td><td> 29.50</td><td>  2.226</td><td>190.60</td><td>43.44</td><td>39.460</td><td>186.80</td><td>38.43</td><td> 37.43</td><td>31.53</td></tr>\n",
              "\t<tr><th scope=row>GTEX-111FC-3126-SM-5GZZ2</th><td>28.73</td><td>41.45000</td><td>74.580</td><td> 59.31</td><td> 73.35</td><td> 69.010</td><td>174.3</td><td> 34.30</td><td> 86.51000</td><td>13.280000</td><td>⋯</td><td>120.70</td><td> 55.31</td><td>  1.793</td><td>228.80</td><td>49.32</td><td>52.100</td><td>146.90</td><td>46.09</td><td> 41.84</td><td>23.23</td></tr>\n",
              "\t<tr><th scope=row>GTEX-111FC-3326-SM-5GZYV</th><td>75.19</td><td>74.53000</td><td>56.410</td><td> 44.51</td><td> 58.07</td><td>116.700</td><td>165.3</td><td> 50.47</td><td>170.40000</td><td> 2.383000</td><td>⋯</td><td>170.30</td><td> 25.54</td><td>  2.749</td><td>168.50</td><td>81.40</td><td>41.010</td><td>134.00</td><td>51.58</td><td> 35.34</td><td>86.73</td></tr>\n",
              "\t<tr><th scope=row>GTEX-111YS-0006-SM-5NQBE</th><td>10.37</td><td> 0.03452</td><td>45.520</td><td> 96.17</td><td>352.50</td><td>  4.280</td><td>164.0</td><td> 36.02</td><td>  0.01537</td><td> 0.005864</td><td>⋯</td><td> 21.86</td><td>231.70</td><td>123.800</td><td> 15.07</td><td>11.58</td><td> 3.872</td><td> 29.03</td><td>19.64</td><td> 16.53</td><td>99.76</td></tr>\n",
              "\t<tr><th scope=row>GTEX-1122O-0003-SM-5Q5DL</th><td>56.24</td><td> 0.03166</td><td> 3.504</td><td> 54.53</td><td>221.80</td><td> 14.920</td><td>251.8</td><td>132.70</td><td>  0.04229</td><td> 0.021520</td><td>⋯</td><td>426.60</td><td> 95.34</td><td> 39.290</td><td> 35.22</td><td>58.23</td><td> 5.941</td><td>120.40</td><td>48.86</td><td>102.40</td><td>66.20</td></tr>\n",
              "\t<tr><th scope=row>GTEX-1122O-0005-SM-5O99J</th><td>21.64</td><td> 0.11980</td><td>19.180</td><td>121.40</td><td>402.50</td><td>  3.863</td><td>135.9</td><td> 32.77</td><td>  0.05334</td><td> 0.048850</td><td>⋯</td><td> 11.14</td><td>513.70</td><td>220.900</td><td> 10.70</td><td>15.68</td><td> 4.074</td><td> 18.38</td><td>26.18</td><td> 10.62</td><td>85.68</td></tr>\n",
              "</tbody>\n",
              "</table>\n"
            ],
            "text/markdown": "\nA data.frame: 6 × 4341\n\n| <!--/--> | ENSG00000168137.15 &lt;dbl&gt; | ENSG00000144550.12 &lt;dbl&gt; | ENSG00000134072.10 &lt;dbl&gt; | ENSG00000171148.13 &lt;dbl&gt; | ENSG00000241553.12 &lt;dbl&gt; | ENSG00000163703.17 &lt;dbl&gt; | ENSG00000254999.3 &lt;dbl&gt; | ENSG00000157020.17 &lt;dbl&gt; | ENSG00000157087.17 &lt;dbl&gt; | ENSG00000132164.9 &lt;dbl&gt; | ⋯ ⋯ | ENSG00000155368.16 &lt;dbl&gt; | ENSG00000144118.13 &lt;dbl&gt; | ENSG00000136732.14 &lt;dbl&gt; | ENSG00000136717.14 &lt;dbl&gt; | ENSG00000163161.12 &lt;dbl&gt; | ENSG00000136720.6 &lt;dbl&gt; | ENSG00000152082.13 &lt;dbl&gt; | ENSG00000136710.9 &lt;dbl&gt; | ENSG00000136718.9 &lt;dbl&gt; | ENSG00000072135.12 &lt;dbl&gt; |\n|---|---|---|---|---|---|---|---|---|---|---|---|---|---|---|---|---|---|---|---|---|---|\n| GTEX-1117F-3226-SM-5N9CT | 18.39 | 32.46000 | 44.120 |  49.81 |  65.27 |  47.540 | 148.4 |  32.88 |  37.31000 | 13.830000 | ⋯ | 105.40 |  29.50 |   2.226 | 190.60 | 43.44 | 39.460 | 186.80 | 38.43 |  37.43 | 31.53 |\n| GTEX-111FC-3126-SM-5GZZ2 | 28.73 | 41.45000 | 74.580 |  59.31 |  73.35 |  69.010 | 174.3 |  34.30 |  86.51000 | 13.280000 | ⋯ | 120.70 |  55.31 |   1.793 | 228.80 | 49.32 | 52.100 | 146.90 | 46.09 |  41.84 | 23.23 |\n| GTEX-111FC-3326-SM-5GZYV | 75.19 | 74.53000 | 56.410 |  44.51 |  58.07 | 116.700 | 165.3 |  50.47 | 170.40000 |  2.383000 | ⋯ | 170.30 |  25.54 |   2.749 | 168.50 | 81.40 | 41.010 | 134.00 | 51.58 |  35.34 | 86.73 |\n| GTEX-111YS-0006-SM-5NQBE | 10.37 |  0.03452 | 45.520 |  96.17 | 352.50 |   4.280 | 164.0 |  36.02 |   0.01537 |  0.005864 | ⋯ |  21.86 | 231.70 | 123.800 |  15.07 | 11.58 |  3.872 |  29.03 | 19.64 |  16.53 | 99.76 |\n| GTEX-1122O-0003-SM-5Q5DL | 56.24 |  0.03166 |  3.504 |  54.53 | 221.80 |  14.920 | 251.8 | 132.70 |   0.04229 |  0.021520 | ⋯ | 426.60 |  95.34 |  39.290 |  35.22 | 58.23 |  5.941 | 120.40 | 48.86 | 102.40 | 66.20 |\n| GTEX-1122O-0005-SM-5O99J | 21.64 |  0.11980 | 19.180 | 121.40 | 402.50 |   3.863 | 135.9 |  32.77 |   0.05334 |  0.048850 | ⋯ |  11.14 | 513.70 | 220.900 |  10.70 | 15.68 |  4.074 |  18.38 | 26.18 |  10.62 | 85.68 |\n\n",
            "text/latex": "A data.frame: 6 × 4341\n\\begin{tabular}{r|lllllllllllllllllllll}\n  & ENSG00000168137.15 & ENSG00000144550.12 & ENSG00000134072.10 & ENSG00000171148.13 & ENSG00000241553.12 & ENSG00000163703.17 & ENSG00000254999.3 & ENSG00000157020.17 & ENSG00000157087.17 & ENSG00000132164.9 & ⋯ & ENSG00000155368.16 & ENSG00000144118.13 & ENSG00000136732.14 & ENSG00000136717.14 & ENSG00000163161.12 & ENSG00000136720.6 & ENSG00000152082.13 & ENSG00000136710.9 & ENSG00000136718.9 & ENSG00000072135.12\\\\\n  & <dbl> & <dbl> & <dbl> & <dbl> & <dbl> & <dbl> & <dbl> & <dbl> & <dbl> & <dbl> & ⋯ & <dbl> & <dbl> & <dbl> & <dbl> & <dbl> & <dbl> & <dbl> & <dbl> & <dbl> & <dbl>\\\\\n\\hline\n\tGTEX-1117F-3226-SM-5N9CT & 18.39 & 32.46000 & 44.120 &  49.81 &  65.27 &  47.540 & 148.4 &  32.88 &  37.31000 & 13.830000 & ⋯ & 105.40 &  29.50 &   2.226 & 190.60 & 43.44 & 39.460 & 186.80 & 38.43 &  37.43 & 31.53\\\\\n\tGTEX-111FC-3126-SM-5GZZ2 & 28.73 & 41.45000 & 74.580 &  59.31 &  73.35 &  69.010 & 174.3 &  34.30 &  86.51000 & 13.280000 & ⋯ & 120.70 &  55.31 &   1.793 & 228.80 & 49.32 & 52.100 & 146.90 & 46.09 &  41.84 & 23.23\\\\\n\tGTEX-111FC-3326-SM-5GZYV & 75.19 & 74.53000 & 56.410 &  44.51 &  58.07 & 116.700 & 165.3 &  50.47 & 170.40000 &  2.383000 & ⋯ & 170.30 &  25.54 &   2.749 & 168.50 & 81.40 & 41.010 & 134.00 & 51.58 &  35.34 & 86.73\\\\\n\tGTEX-111YS-0006-SM-5NQBE & 10.37 &  0.03452 & 45.520 &  96.17 & 352.50 &   4.280 & 164.0 &  36.02 &   0.01537 &  0.005864 & ⋯ &  21.86 & 231.70 & 123.800 &  15.07 & 11.58 &  3.872 &  29.03 & 19.64 &  16.53 & 99.76\\\\\n\tGTEX-1122O-0003-SM-5Q5DL & 56.24 &  0.03166 &  3.504 &  54.53 & 221.80 &  14.920 & 251.8 & 132.70 &   0.04229 &  0.021520 & ⋯ & 426.60 &  95.34 &  39.290 &  35.22 & 58.23 &  5.941 & 120.40 & 48.86 & 102.40 & 66.20\\\\\n\tGTEX-1122O-0005-SM-5O99J & 21.64 &  0.11980 & 19.180 & 121.40 & 402.50 &   3.863 & 135.9 &  32.77 &   0.05334 &  0.048850 & ⋯ &  11.14 & 513.70 & 220.900 &  10.70 & 15.68 &  4.074 &  18.38 & 26.18 &  10.62 & 85.68\\\\\n\\end{tabular}\n",
            "text/plain": [
              "                         ENSG00000168137.15 ENSG00000144550.12\n",
              "GTEX-1117F-3226-SM-5N9CT 18.39              32.46000          \n",
              "GTEX-111FC-3126-SM-5GZZ2 28.73              41.45000          \n",
              "GTEX-111FC-3326-SM-5GZYV 75.19              74.53000          \n",
              "GTEX-111YS-0006-SM-5NQBE 10.37               0.03452          \n",
              "GTEX-1122O-0003-SM-5Q5DL 56.24               0.03166          \n",
              "GTEX-1122O-0005-SM-5O99J 21.64               0.11980          \n",
              "                         ENSG00000134072.10 ENSG00000171148.13\n",
              "GTEX-1117F-3226-SM-5N9CT 44.120              49.81            \n",
              "GTEX-111FC-3126-SM-5GZZ2 74.580              59.31            \n",
              "GTEX-111FC-3326-SM-5GZYV 56.410              44.51            \n",
              "GTEX-111YS-0006-SM-5NQBE 45.520              96.17            \n",
              "GTEX-1122O-0003-SM-5Q5DL  3.504              54.53            \n",
              "GTEX-1122O-0005-SM-5O99J 19.180             121.40            \n",
              "                         ENSG00000241553.12 ENSG00000163703.17\n",
              "GTEX-1117F-3226-SM-5N9CT  65.27              47.540           \n",
              "GTEX-111FC-3126-SM-5GZZ2  73.35              69.010           \n",
              "GTEX-111FC-3326-SM-5GZYV  58.07             116.700           \n",
              "GTEX-111YS-0006-SM-5NQBE 352.50               4.280           \n",
              "GTEX-1122O-0003-SM-5Q5DL 221.80              14.920           \n",
              "GTEX-1122O-0005-SM-5O99J 402.50               3.863           \n",
              "                         ENSG00000254999.3 ENSG00000157020.17\n",
              "GTEX-1117F-3226-SM-5N9CT 148.4              32.88            \n",
              "GTEX-111FC-3126-SM-5GZZ2 174.3              34.30            \n",
              "GTEX-111FC-3326-SM-5GZYV 165.3              50.47            \n",
              "GTEX-111YS-0006-SM-5NQBE 164.0              36.02            \n",
              "GTEX-1122O-0003-SM-5Q5DL 251.8             132.70            \n",
              "GTEX-1122O-0005-SM-5O99J 135.9              32.77            \n",
              "                         ENSG00000157087.17 ENSG00000132164.9 ⋯\n",
              "GTEX-1117F-3226-SM-5N9CT  37.31000          13.830000         ⋯\n",
              "GTEX-111FC-3126-SM-5GZZ2  86.51000          13.280000         ⋯\n",
              "GTEX-111FC-3326-SM-5GZYV 170.40000           2.383000         ⋯\n",
              "GTEX-111YS-0006-SM-5NQBE   0.01537           0.005864         ⋯\n",
              "GTEX-1122O-0003-SM-5Q5DL   0.04229           0.021520         ⋯\n",
              "GTEX-1122O-0005-SM-5O99J   0.05334           0.048850         ⋯\n",
              "                         ENSG00000155368.16 ENSG00000144118.13\n",
              "GTEX-1117F-3226-SM-5N9CT 105.40              29.50            \n",
              "GTEX-111FC-3126-SM-5GZZ2 120.70              55.31            \n",
              "GTEX-111FC-3326-SM-5GZYV 170.30              25.54            \n",
              "GTEX-111YS-0006-SM-5NQBE  21.86             231.70            \n",
              "GTEX-1122O-0003-SM-5Q5DL 426.60              95.34            \n",
              "GTEX-1122O-0005-SM-5O99J  11.14             513.70            \n",
              "                         ENSG00000136732.14 ENSG00000136717.14\n",
              "GTEX-1117F-3226-SM-5N9CT   2.226            190.60            \n",
              "GTEX-111FC-3126-SM-5GZZ2   1.793            228.80            \n",
              "GTEX-111FC-3326-SM-5GZYV   2.749            168.50            \n",
              "GTEX-111YS-0006-SM-5NQBE 123.800             15.07            \n",
              "GTEX-1122O-0003-SM-5Q5DL  39.290             35.22            \n",
              "GTEX-1122O-0005-SM-5O99J 220.900             10.70            \n",
              "                         ENSG00000163161.12 ENSG00000136720.6\n",
              "GTEX-1117F-3226-SM-5N9CT 43.44              39.460           \n",
              "GTEX-111FC-3126-SM-5GZZ2 49.32              52.100           \n",
              "GTEX-111FC-3326-SM-5GZYV 81.40              41.010           \n",
              "GTEX-111YS-0006-SM-5NQBE 11.58               3.872           \n",
              "GTEX-1122O-0003-SM-5Q5DL 58.23               5.941           \n",
              "GTEX-1122O-0005-SM-5O99J 15.68               4.074           \n",
              "                         ENSG00000152082.13 ENSG00000136710.9 ENSG00000136718.9\n",
              "GTEX-1117F-3226-SM-5N9CT 186.80             38.43              37.43           \n",
              "GTEX-111FC-3126-SM-5GZZ2 146.90             46.09              41.84           \n",
              "GTEX-111FC-3326-SM-5GZYV 134.00             51.58              35.34           \n",
              "GTEX-111YS-0006-SM-5NQBE  29.03             19.64              16.53           \n",
              "GTEX-1122O-0003-SM-5Q5DL 120.40             48.86             102.40           \n",
              "GTEX-1122O-0005-SM-5O99J  18.38             26.18              10.62           \n",
              "                         ENSG00000072135.12\n",
              "GTEX-1117F-3226-SM-5N9CT 31.53             \n",
              "GTEX-111FC-3126-SM-5GZZ2 23.23             \n",
              "GTEX-111FC-3326-SM-5GZYV 86.73             \n",
              "GTEX-111YS-0006-SM-5NQBE 99.76             \n",
              "GTEX-1122O-0003-SM-5Q5DL 66.20             \n",
              "GTEX-1122O-0005-SM-5O99J 85.68             "
            ]
          },
          "metadata": {}
        }
      ]
    },
    {
      "cell_type": "code",
      "source": [
        "gtex_v8_target <- gtex_v8_target |> dplyr::filter(SAMPID %in% common_samples)\n",
        "head(gtex_v8_target)"
      ],
      "metadata": {
        "colab": {
          "base_uri": "https://localhost:8080/",
          "height": 722
        },
        "id": "RsrHiC8Af4kE",
        "outputId": "50400d33-62b9-41d8-c1a0-136cc8b21e5d"
      },
      "execution_count": 8,
      "outputs": [
        {
          "output_type": "display_data",
          "data": {
            "text/html": [
              "<table class=\"dataframe\">\n",
              "<caption>A tibble: 6 × 67</caption>\n",
              "<thead>\n",
              "\t<tr><th scope=col>SAMPID</th><th scope=col>SMATSSCR</th><th scope=col>SMCENTER</th><th scope=col>SMPTHNTS</th><th scope=col>SMRIN</th><th scope=col>SMTS</th><th scope=col>SMTSD</th><th scope=col>SMUBRID</th><th scope=col>SMTSISCH</th><th scope=col>SMTSPAX</th><th scope=col>⋯</th><th scope=col>SME1PCTS</th><th scope=col>SMRRNART</th><th scope=col>SME1MPRT</th><th scope=col>SMNUM5CD</th><th scope=col>SMDPMPRT</th><th scope=col>SME2PCTS</th><th scope=col>SUBJID</th><th scope=col>SEX</th><th scope=col>AGE</th><th scope=col>DTHHRDY</th></tr>\n",
              "\t<tr><th scope=col>&lt;chr&gt;</th><th scope=col>&lt;dbl&gt;</th><th scope=col>&lt;chr&gt;</th><th scope=col>&lt;chr&gt;</th><th scope=col>&lt;dbl&gt;</th><th scope=col>&lt;chr&gt;</th><th scope=col>&lt;chr&gt;</th><th scope=col>&lt;chr&gt;</th><th scope=col>&lt;dbl&gt;</th><th scope=col>&lt;dbl&gt;</th><th scope=col>⋯</th><th scope=col>&lt;dbl&gt;</th><th scope=col>&lt;dbl&gt;</th><th scope=col>&lt;dbl&gt;</th><th scope=col>&lt;lgl&gt;</th><th scope=col>&lt;dbl&gt;</th><th scope=col>&lt;dbl&gt;</th><th scope=col>&lt;chr&gt;</th><th scope=col>&lt;dbl&gt;</th><th scope=col>&lt;chr&gt;</th><th scope=col>&lt;dbl&gt;</th></tr>\n",
              "</thead>\n",
              "<tbody>\n",
              "\t<tr><td>GTEX-1117F-3226-SM-5N9CT</td><td> 1</td><td>B1</td><td>2 pieces</td><td> 6.2</td><td>Brain</td><td>Brain - Cortex                     </td><td>0001870    </td><td>1418</td><td>931</td><td>⋯</td><td>50.4180</td><td>0.06203630</td><td>0.993989</td><td>NA</td><td>0</td><td>50.1910</td><td>GTEX-1117F</td><td>2</td><td>60-69</td><td>4</td></tr>\n",
              "\t<tr><td>GTEX-111FC-3126-SM-5GZZ2</td><td> 1</td><td>B1</td><td>2 pieces</td><td> 6.1</td><td>Brain</td><td>Brain - Cortex                     </td><td>0001870    </td><td>1221</td><td>697</td><td>⋯</td><td>50.5361</td><td>0.03638110</td><td>0.995651</td><td>NA</td><td>0</td><td>50.0212</td><td>GTEX-111FC</td><td>1</td><td>60-69</td><td>1</td></tr>\n",
              "\t<tr><td>GTEX-111FC-3326-SM-5GZYV</td><td> 2</td><td>B1</td><td>2 pieces</td><td> 7.1</td><td>Brain</td><td>Brain - Cerebellum                 </td><td>0002037    </td><td>1221</td><td>697</td><td>⋯</td><td>49.9638</td><td>0.01607660</td><td>0.994173</td><td>NA</td><td>0</td><td>50.1835</td><td>GTEX-111FC</td><td>1</td><td>60-69</td><td>1</td></tr>\n",
              "\t<tr><td>GTEX-111YS-0006-SM-5NQBE</td><td>NA</td><td>B1</td><td>NA      </td><td> 8.2</td><td>Blood</td><td>Whole Blood                        </td><td>0013756    </td><td>-121</td><td> NA</td><td>⋯</td><td>49.8542</td><td>0.00278633</td><td>0.988644</td><td>NA</td><td>0</td><td>50.3820</td><td>GTEX-111YS</td><td>1</td><td>60-69</td><td>0</td></tr>\n",
              "\t<tr><td>GTEX-1122O-0003-SM-5Q5DL</td><td>NA</td><td>B1</td><td>NA      </td><td>10.0</td><td>Blood</td><td>Cells - EBV-transformed lymphocytes</td><td>EFO_0000572</td><td> -77</td><td> NA</td><td>⋯</td><td>50.0182</td><td>0.00484995</td><td>0.995954</td><td>NA</td><td>0</td><td>50.1247</td><td>GTEX-1122O</td><td>2</td><td>60-69</td><td>0</td></tr>\n",
              "\t<tr><td>GTEX-1122O-0005-SM-5O99J</td><td>NA</td><td>B1</td><td>NA      </td><td> 7.6</td><td>Blood</td><td>Whole Blood                        </td><td>0013756    </td><td> -77</td><td> NA</td><td>⋯</td><td>49.9416</td><td>0.00286035</td><td>0.995023</td><td>NA</td><td>0</td><td>50.3328</td><td>GTEX-1122O</td><td>2</td><td>60-69</td><td>0</td></tr>\n",
              "</tbody>\n",
              "</table>\n"
            ],
            "text/markdown": "\nA tibble: 6 × 67\n\n| SAMPID &lt;chr&gt; | SMATSSCR &lt;dbl&gt; | SMCENTER &lt;chr&gt; | SMPTHNTS &lt;chr&gt; | SMRIN &lt;dbl&gt; | SMTS &lt;chr&gt; | SMTSD &lt;chr&gt; | SMUBRID &lt;chr&gt; | SMTSISCH &lt;dbl&gt; | SMTSPAX &lt;dbl&gt; | ⋯ ⋯ | SME1PCTS &lt;dbl&gt; | SMRRNART &lt;dbl&gt; | SME1MPRT &lt;dbl&gt; | SMNUM5CD &lt;lgl&gt; | SMDPMPRT &lt;dbl&gt; | SME2PCTS &lt;dbl&gt; | SUBJID &lt;chr&gt; | SEX &lt;dbl&gt; | AGE &lt;chr&gt; | DTHHRDY &lt;dbl&gt; |\n|---|---|---|---|---|---|---|---|---|---|---|---|---|---|---|---|---|---|---|---|---|\n| GTEX-1117F-3226-SM-5N9CT |  1 | B1 | 2 pieces |  6.2 | Brain | Brain - Cortex                      | 0001870     | 1418 | 931 | ⋯ | 50.4180 | 0.06203630 | 0.993989 | NA | 0 | 50.1910 | GTEX-1117F | 2 | 60-69 | 4 |\n| GTEX-111FC-3126-SM-5GZZ2 |  1 | B1 | 2 pieces |  6.1 | Brain | Brain - Cortex                      | 0001870     | 1221 | 697 | ⋯ | 50.5361 | 0.03638110 | 0.995651 | NA | 0 | 50.0212 | GTEX-111FC | 1 | 60-69 | 1 |\n| GTEX-111FC-3326-SM-5GZYV |  2 | B1 | 2 pieces |  7.1 | Brain | Brain - Cerebellum                  | 0002037     | 1221 | 697 | ⋯ | 49.9638 | 0.01607660 | 0.994173 | NA | 0 | 50.1835 | GTEX-111FC | 1 | 60-69 | 1 |\n| GTEX-111YS-0006-SM-5NQBE | NA | B1 | NA       |  8.2 | Blood | Whole Blood                         | 0013756     | -121 |  NA | ⋯ | 49.8542 | 0.00278633 | 0.988644 | NA | 0 | 50.3820 | GTEX-111YS | 1 | 60-69 | 0 |\n| GTEX-1122O-0003-SM-5Q5DL | NA | B1 | NA       | 10.0 | Blood | Cells - EBV-transformed lymphocytes | EFO_0000572 |  -77 |  NA | ⋯ | 50.0182 | 0.00484995 | 0.995954 | NA | 0 | 50.1247 | GTEX-1122O | 2 | 60-69 | 0 |\n| GTEX-1122O-0005-SM-5O99J | NA | B1 | NA       |  7.6 | Blood | Whole Blood                         | 0013756     |  -77 |  NA | ⋯ | 49.9416 | 0.00286035 | 0.995023 | NA | 0 | 50.3328 | GTEX-1122O | 2 | 60-69 | 0 |\n\n",
            "text/latex": "A tibble: 6 × 67\n\\begin{tabular}{lllllllllllllllllllll}\n SAMPID & SMATSSCR & SMCENTER & SMPTHNTS & SMRIN & SMTS & SMTSD & SMUBRID & SMTSISCH & SMTSPAX & ⋯ & SME1PCTS & SMRRNART & SME1MPRT & SMNUM5CD & SMDPMPRT & SME2PCTS & SUBJID & SEX & AGE & DTHHRDY\\\\\n <chr> & <dbl> & <chr> & <chr> & <dbl> & <chr> & <chr> & <chr> & <dbl> & <dbl> & ⋯ & <dbl> & <dbl> & <dbl> & <lgl> & <dbl> & <dbl> & <chr> & <dbl> & <chr> & <dbl>\\\\\n\\hline\n\t GTEX-1117F-3226-SM-5N9CT &  1 & B1 & 2 pieces &  6.2 & Brain & Brain - Cortex                      & 0001870     & 1418 & 931 & ⋯ & 50.4180 & 0.06203630 & 0.993989 & NA & 0 & 50.1910 & GTEX-1117F & 2 & 60-69 & 4\\\\\n\t GTEX-111FC-3126-SM-5GZZ2 &  1 & B1 & 2 pieces &  6.1 & Brain & Brain - Cortex                      & 0001870     & 1221 & 697 & ⋯ & 50.5361 & 0.03638110 & 0.995651 & NA & 0 & 50.0212 & GTEX-111FC & 1 & 60-69 & 1\\\\\n\t GTEX-111FC-3326-SM-5GZYV &  2 & B1 & 2 pieces &  7.1 & Brain & Brain - Cerebellum                  & 0002037     & 1221 & 697 & ⋯ & 49.9638 & 0.01607660 & 0.994173 & NA & 0 & 50.1835 & GTEX-111FC & 1 & 60-69 & 1\\\\\n\t GTEX-111YS-0006-SM-5NQBE & NA & B1 & NA       &  8.2 & Blood & Whole Blood                         & 0013756     & -121 &  NA & ⋯ & 49.8542 & 0.00278633 & 0.988644 & NA & 0 & 50.3820 & GTEX-111YS & 1 & 60-69 & 0\\\\\n\t GTEX-1122O-0003-SM-5Q5DL & NA & B1 & NA       & 10.0 & Blood & Cells - EBV-transformed lymphocytes & EFO\\_0000572 &  -77 &  NA & ⋯ & 50.0182 & 0.00484995 & 0.995954 & NA & 0 & 50.1247 & GTEX-1122O & 2 & 60-69 & 0\\\\\n\t GTEX-1122O-0005-SM-5O99J & NA & B1 & NA       &  7.6 & Blood & Whole Blood                         & 0013756     &  -77 &  NA & ⋯ & 49.9416 & 0.00286035 & 0.995023 & NA & 0 & 50.3328 & GTEX-1122O & 2 & 60-69 & 0\\\\\n\\end{tabular}\n",
            "text/plain": [
              "  SAMPID                   SMATSSCR SMCENTER SMPTHNTS SMRIN SMTS \n",
              "1 GTEX-1117F-3226-SM-5N9CT  1       B1       2 pieces  6.2  Brain\n",
              "2 GTEX-111FC-3126-SM-5GZZ2  1       B1       2 pieces  6.1  Brain\n",
              "3 GTEX-111FC-3326-SM-5GZYV  2       B1       2 pieces  7.1  Brain\n",
              "4 GTEX-111YS-0006-SM-5NQBE NA       B1       NA        8.2  Blood\n",
              "5 GTEX-1122O-0003-SM-5Q5DL NA       B1       NA       10.0  Blood\n",
              "6 GTEX-1122O-0005-SM-5O99J NA       B1       NA        7.6  Blood\n",
              "  SMTSD                               SMUBRID     SMTSISCH SMTSPAX ⋯ SME1PCTS\n",
              "1 Brain - Cortex                      0001870     1418     931     ⋯ 50.4180 \n",
              "2 Brain - Cortex                      0001870     1221     697     ⋯ 50.5361 \n",
              "3 Brain - Cerebellum                  0002037     1221     697     ⋯ 49.9638 \n",
              "4 Whole Blood                         0013756     -121      NA     ⋯ 49.8542 \n",
              "5 Cells - EBV-transformed lymphocytes EFO_0000572  -77      NA     ⋯ 50.0182 \n",
              "6 Whole Blood                         0013756      -77      NA     ⋯ 49.9416 \n",
              "  SMRRNART   SME1MPRT SMNUM5CD SMDPMPRT SME2PCTS SUBJID     SEX AGE   DTHHRDY\n",
              "1 0.06203630 0.993989 NA       0        50.1910  GTEX-1117F 2   60-69 4      \n",
              "2 0.03638110 0.995651 NA       0        50.0212  GTEX-111FC 1   60-69 1      \n",
              "3 0.01607660 0.994173 NA       0        50.1835  GTEX-111FC 1   60-69 1      \n",
              "4 0.00278633 0.988644 NA       0        50.3820  GTEX-111YS 1   60-69 0      \n",
              "5 0.00484995 0.995954 NA       0        50.1247  GTEX-1122O 2   60-69 0      \n",
              "6 0.00286035 0.995023 NA       0        50.3328  GTEX-1122O 2   60-69 0      "
            ]
          },
          "metadata": {}
        }
      ]
    },
    {
      "cell_type": "markdown",
      "source": [
        "Check the sample counts falling under each category"
      ],
      "metadata": {
        "id": "O_LvkR3wjb7b"
      }
    },
    {
      "cell_type": "code",
      "source": [
        "table(gtex_v8_target$SMTS)"
      ],
      "metadata": {
        "colab": {
          "base_uri": "https://localhost:8080/",
          "height": 69
        },
        "id": "DiFP4k5MEapy",
        "outputId": "40d63ffd-7ea7-4345-963a-889872fe1feb"
      },
      "execution_count": 9,
      "outputs": [
        {
          "output_type": "display_data",
          "data": {
            "text/plain": [
              "\n",
              "Blood Brain \n",
              "  929  2642 "
            ]
          },
          "metadata": {}
        }
      ]
    },
    {
      "cell_type": "markdown",
      "source": [
        "### Load Gene id to symbol mapping\n",
        "Will be used later to map ensembl id back to symbols for better interpretation"
      ],
      "metadata": {
        "id": "3qHMw1rWStgS"
      }
    },
    {
      "cell_type": "code",
      "source": [
        "gtex_v8_gene_id_to_symbol <- read_csv(\"gtex_v8_gene_id_to_symbol.csv\")\n",
        "head(gtex_v8_gene_id_to_symbol)"
      ],
      "metadata": {
        "colab": {
          "base_uri": "https://localhost:8080/",
          "height": 407
        },
        "id": "bj11rilrSwiX",
        "outputId": "785ab4c4-7b3f-4f0d-e1fd-27355c259ac4"
      },
      "execution_count": 10,
      "outputs": [
        {
          "output_type": "stream",
          "name": "stderr",
          "text": [
            "\u001b[1mRows: \u001b[22m\u001b[34m5000\u001b[39m \u001b[1mColumns: \u001b[22m\u001b[34m2\u001b[39m\n",
            "\u001b[36m──\u001b[39m \u001b[1mColumn specification\u001b[22m \u001b[36m────────────────────────────────────────────────────────\u001b[39m\n",
            "\u001b[1mDelimiter:\u001b[22m \",\"\n",
            "\u001b[31mchr\u001b[39m (2): Name, Symbol\n",
            "\n",
            "\u001b[36mℹ\u001b[39m Use `spec()` to retrieve the full column specification for this data.\n",
            "\u001b[36mℹ\u001b[39m Specify the column types or set `show_col_types = FALSE` to quiet this message.\n"
          ]
        },
        {
          "output_type": "display_data",
          "data": {
            "text/html": [
              "<table class=\"dataframe\">\n",
              "<caption>A tibble: 6 × 2</caption>\n",
              "<thead>\n",
              "\t<tr><th scope=col>Name</th><th scope=col>Symbol</th></tr>\n",
              "\t<tr><th scope=col>&lt;chr&gt;</th><th scope=col>&lt;chr&gt;</th></tr>\n",
              "</thead>\n",
              "<tbody>\n",
              "\t<tr><td>ENSG00000244734.3 </td><td>HBB    </td></tr>\n",
              "\t<tr><td>ENSG00000188536.12</td><td>HBA2   </td></tr>\n",
              "\t<tr><td>ENSG00000210082.2 </td><td>MT-RNR2</td></tr>\n",
              "\t<tr><td>ENSG00000198804.2 </td><td>MT-CO1 </td></tr>\n",
              "\t<tr><td>ENSG00000198712.1 </td><td>MT-CO2 </td></tr>\n",
              "\t<tr><td>ENSG00000198938.2 </td><td>MT-CO3 </td></tr>\n",
              "</tbody>\n",
              "</table>\n"
            ],
            "text/markdown": "\nA tibble: 6 × 2\n\n| Name &lt;chr&gt; | Symbol &lt;chr&gt; |\n|---|---|\n| ENSG00000244734.3  | HBB     |\n| ENSG00000188536.12 | HBA2    |\n| ENSG00000210082.2  | MT-RNR2 |\n| ENSG00000198804.2  | MT-CO1  |\n| ENSG00000198712.1  | MT-CO2  |\n| ENSG00000198938.2  | MT-CO3  |\n\n",
            "text/latex": "A tibble: 6 × 2\n\\begin{tabular}{ll}\n Name & Symbol\\\\\n <chr> & <chr>\\\\\n\\hline\n\t ENSG00000244734.3  & HBB    \\\\\n\t ENSG00000188536.12 & HBA2   \\\\\n\t ENSG00000210082.2  & MT-RNR2\\\\\n\t ENSG00000198804.2  & MT-CO1 \\\\\n\t ENSG00000198712.1  & MT-CO2 \\\\\n\t ENSG00000198938.2  & MT-CO3 \\\\\n\\end{tabular}\n",
            "text/plain": [
              "  Name               Symbol \n",
              "1 ENSG00000244734.3  HBB    \n",
              "2 ENSG00000188536.12 HBA2   \n",
              "3 ENSG00000210082.2  MT-RNR2\n",
              "4 ENSG00000198804.2  MT-CO1 \n",
              "5 ENSG00000198712.1  MT-CO2 \n",
              "6 ENSG00000198938.2  MT-CO3 "
            ]
          },
          "metadata": {}
        }
      ]
    },
    {
      "cell_type": "markdown",
      "source": [
        "## Regression"
      ],
      "metadata": {
        "id": "fdHTtqsPj6oL"
      }
    },
    {
      "cell_type": "markdown",
      "source": [
        "### Multiple variable Linear regression of tissue on gene expression"
      ],
      "metadata": {
        "id": "R1H86NrJjl0a"
      }
    },
    {
      "cell_type": "code",
      "source": [
        "Y_scale <- scale(Y[gtex_v8_target$SAMPID, ])\n",
        "\n",
        "# Perform regression\n",
        "results <- lapply(1:ncol(Y_scale), function(i) {\n",
        "  gene_expression <- Y_scale[,i]\n",
        "  model <- lm(gene_expression ~ SMTS + AGE + SEX, data = gtex_v8_target)\n",
        "  summary(model)\n",
        "})"
      ],
      "metadata": {
        "id": "HNE4HVEBj6fC"
      },
      "execution_count": 11,
      "outputs": []
    },
    {
      "cell_type": "code",
      "source": [
        "brain_coefficients <- data.frame()\n",
        "\n",
        "for (i in 1:length(results)) {\n",
        "  coef_matrix <- coef(results[[i]])\n",
        "  if (\"SMTSBrain\" %in% rownames(coef_matrix)) {\n",
        "    coef_row <- as.data.frame(coef(results[[i]]))['SMTSBrain',]\n",
        "    gene_name <- colnames(Y_scale)[i] # gene ensembl id\n",
        "    coef_row$Name <- gene_name\n",
        "    brain_coefficients <- rbind(brain_coefficients, coef_row)\n",
        "  }\n",
        "}\n",
        "\n",
        "rownames(brain_coefficients) <- NULL\n",
        "head(brain_coefficients)"
      ],
      "metadata": {
        "id": "tsC4vnRaRHjR",
        "colab": {
          "base_uri": "https://localhost:8080/",
          "height": 286
        },
        "outputId": "61035236-7a6d-45da-a76f-ae13fecde653"
      },
      "execution_count": 12,
      "outputs": [
        {
          "output_type": "display_data",
          "data": {
            "text/html": [
              "<table class=\"dataframe\">\n",
              "<caption>A data.frame: 6 × 5</caption>\n",
              "<thead>\n",
              "\t<tr><th></th><th scope=col>Estimate</th><th scope=col>Std. Error</th><th scope=col>t value</th><th scope=col>Pr(&gt;|t|)</th><th scope=col>Name</th></tr>\n",
              "\t<tr><th></th><th scope=col>&lt;dbl&gt;</th><th scope=col>&lt;dbl&gt;</th><th scope=col>&lt;dbl&gt;</th><th scope=col>&lt;dbl&gt;</th><th scope=col>&lt;chr&gt;</th></tr>\n",
              "</thead>\n",
              "<tbody>\n",
              "\t<tr><th scope=row>1</th><td> 0.2557212</td><td>0.03919994</td><td>  6.523509</td><td> 7.836851e-11</td><td>ENSG00000168137.15</td></tr>\n",
              "\t<tr><th scope=row>2</th><td> 0.8067258</td><td>0.03696221</td><td> 21.825693</td><td> 3.185476e-99</td><td>ENSG00000144550.12</td></tr>\n",
              "\t<tr><th scope=row>3</th><td> 1.1231343</td><td>0.03446424</td><td> 32.588399</td><td>4.053116e-204</td><td>ENSG00000134072.10</td></tr>\n",
              "\t<tr><th scope=row>4</th><td>-0.6253443</td><td>0.03607984</td><td>-17.332233</td><td> 1.125507e-64</td><td>ENSG00000171148.13</td></tr>\n",
              "\t<tr><th scope=row>5</th><td>-1.6771324</td><td>0.02466063</td><td>-68.008504</td><td> 0.000000e+00</td><td>ENSG00000241553.12</td></tr>\n",
              "\t<tr><th scope=row>6</th><td> 1.0569137</td><td>0.03508128</td><td> 30.127568</td><td>7.811931e-178</td><td>ENSG00000163703.17</td></tr>\n",
              "</tbody>\n",
              "</table>\n"
            ],
            "text/markdown": "\nA data.frame: 6 × 5\n\n| <!--/--> | Estimate &lt;dbl&gt; | Std. Error &lt;dbl&gt; | t value &lt;dbl&gt; | Pr(&gt;|t|) &lt;dbl&gt; | Name &lt;chr&gt; |\n|---|---|---|---|---|---|\n| 1 |  0.2557212 | 0.03919994 |   6.523509 |  7.836851e-11 | ENSG00000168137.15 |\n| 2 |  0.8067258 | 0.03696221 |  21.825693 |  3.185476e-99 | ENSG00000144550.12 |\n| 3 |  1.1231343 | 0.03446424 |  32.588399 | 4.053116e-204 | ENSG00000134072.10 |\n| 4 | -0.6253443 | 0.03607984 | -17.332233 |  1.125507e-64 | ENSG00000171148.13 |\n| 5 | -1.6771324 | 0.02466063 | -68.008504 |  0.000000e+00 | ENSG00000241553.12 |\n| 6 |  1.0569137 | 0.03508128 |  30.127568 | 7.811931e-178 | ENSG00000163703.17 |\n\n",
            "text/latex": "A data.frame: 6 × 5\n\\begin{tabular}{r|lllll}\n  & Estimate & Std. Error & t value & Pr(>\\textbar{}t\\textbar{}) & Name\\\\\n  & <dbl> & <dbl> & <dbl> & <dbl> & <chr>\\\\\n\\hline\n\t1 &  0.2557212 & 0.03919994 &   6.523509 &  7.836851e-11 & ENSG00000168137.15\\\\\n\t2 &  0.8067258 & 0.03696221 &  21.825693 &  3.185476e-99 & ENSG00000144550.12\\\\\n\t3 &  1.1231343 & 0.03446424 &  32.588399 & 4.053116e-204 & ENSG00000134072.10\\\\\n\t4 & -0.6253443 & 0.03607984 & -17.332233 &  1.125507e-64 & ENSG00000171148.13\\\\\n\t5 & -1.6771324 & 0.02466063 & -68.008504 &  0.000000e+00 & ENSG00000241553.12\\\\\n\t6 &  1.0569137 & 0.03508128 &  30.127568 & 7.811931e-178 & ENSG00000163703.17\\\\\n\\end{tabular}\n",
            "text/plain": [
              "  Estimate   Std. Error t value    Pr(>|t|)      Name              \n",
              "1  0.2557212 0.03919994   6.523509  7.836851e-11 ENSG00000168137.15\n",
              "2  0.8067258 0.03696221  21.825693  3.185476e-99 ENSG00000144550.12\n",
              "3  1.1231343 0.03446424  32.588399 4.053116e-204 ENSG00000134072.10\n",
              "4 -0.6253443 0.03607984 -17.332233  1.125507e-64 ENSG00000171148.13\n",
              "5 -1.6771324 0.02466063 -68.008504  0.000000e+00 ENSG00000241553.12\n",
              "6  1.0569137 0.03508128  30.127568 7.811931e-178 ENSG00000163703.17"
            ]
          },
          "metadata": {}
        }
      ]
    },
    {
      "cell_type": "code",
      "source": [
        "top_DEGs <- brain_coefficients |>\n",
        "  dplyr::arrange(desc(abs(`t value`))) |>\n",
        "  head(5) |>\n",
        "  dplyr::left_join(gtex_v8_gene_id_to_symbol, by = \"Name\")\n",
        "top_DEGs"
      ],
      "metadata": {
        "colab": {
          "base_uri": "https://localhost:8080/",
          "height": 254
        },
        "id": "Gng346tjSMzT",
        "outputId": "11124b45-517b-4c18-a2c5-ac4735234dc7"
      },
      "execution_count": 13,
      "outputs": [
        {
          "output_type": "display_data",
          "data": {
            "text/html": [
              "<table class=\"dataframe\">\n",
              "<caption>A data.frame: 5 × 6</caption>\n",
              "<thead>\n",
              "\t<tr><th scope=col>Estimate</th><th scope=col>Std. Error</th><th scope=col>t value</th><th scope=col>Pr(&gt;|t|)</th><th scope=col>Name</th><th scope=col>Symbol</th></tr>\n",
              "\t<tr><th scope=col>&lt;dbl&gt;</th><th scope=col>&lt;dbl&gt;</th><th scope=col>&lt;dbl&gt;</th><th scope=col>&lt;dbl&gt;</th><th scope=col>&lt;chr&gt;</th><th scope=col>&lt;chr&gt;</th></tr>\n",
              "</thead>\n",
              "<tbody>\n",
              "\t<tr><td>-2.026069</td><td>0.01772878</td><td>-114.2814</td><td>0</td><td>ENSG00000104894.11</td><td>CD37   </td></tr>\n",
              "\t<tr><td>-2.004640</td><td>0.01785012</td><td>-112.3040</td><td>0</td><td>ENSG00000128340.14</td><td>RAC2   </td></tr>\n",
              "\t<tr><td>-1.972891</td><td>0.01853225</td><td>-106.4572</td><td>0</td><td>ENSG00000162511.7 </td><td>LAPTM5 </td></tr>\n",
              "\t<tr><td> 1.972961</td><td>0.01877580</td><td> 105.0800</td><td>0</td><td>ENSG00000198899.2 </td><td>MT-ATP6</td></tr>\n",
              "\t<tr><td>-1.950907</td><td>0.01903777</td><td>-102.4756</td><td>0</td><td>ENSG00000122122.9 </td><td>SASH3  </td></tr>\n",
              "</tbody>\n",
              "</table>\n"
            ],
            "text/markdown": "\nA data.frame: 5 × 6\n\n| Estimate &lt;dbl&gt; | Std. Error &lt;dbl&gt; | t value &lt;dbl&gt; | Pr(&gt;|t|) &lt;dbl&gt; | Name &lt;chr&gt; | Symbol &lt;chr&gt; |\n|---|---|---|---|---|---|\n| -2.026069 | 0.01772878 | -114.2814 | 0 | ENSG00000104894.11 | CD37    |\n| -2.004640 | 0.01785012 | -112.3040 | 0 | ENSG00000128340.14 | RAC2    |\n| -1.972891 | 0.01853225 | -106.4572 | 0 | ENSG00000162511.7  | LAPTM5  |\n|  1.972961 | 0.01877580 |  105.0800 | 0 | ENSG00000198899.2  | MT-ATP6 |\n| -1.950907 | 0.01903777 | -102.4756 | 0 | ENSG00000122122.9  | SASH3   |\n\n",
            "text/latex": "A data.frame: 5 × 6\n\\begin{tabular}{llllll}\n Estimate & Std. Error & t value & Pr(>\\textbar{}t\\textbar{}) & Name & Symbol\\\\\n <dbl> & <dbl> & <dbl> & <dbl> & <chr> & <chr>\\\\\n\\hline\n\t -2.026069 & 0.01772878 & -114.2814 & 0 & ENSG00000104894.11 & CD37   \\\\\n\t -2.004640 & 0.01785012 & -112.3040 & 0 & ENSG00000128340.14 & RAC2   \\\\\n\t -1.972891 & 0.01853225 & -106.4572 & 0 & ENSG00000162511.7  & LAPTM5 \\\\\n\t  1.972961 & 0.01877580 &  105.0800 & 0 & ENSG00000198899.2  & MT-ATP6\\\\\n\t -1.950907 & 0.01903777 & -102.4756 & 0 & ENSG00000122122.9  & SASH3  \\\\\n\\end{tabular}\n",
            "text/plain": [
              "  Estimate  Std. Error t value   Pr(>|t|) Name               Symbol \n",
              "1 -2.026069 0.01772878 -114.2814 0        ENSG00000104894.11 CD37   \n",
              "2 -2.004640 0.01785012 -112.3040 0        ENSG00000128340.14 RAC2   \n",
              "3 -1.972891 0.01853225 -106.4572 0        ENSG00000162511.7  LAPTM5 \n",
              "4  1.972961 0.01877580  105.0800 0        ENSG00000198899.2  MT-ATP6\n",
              "5 -1.950907 0.01903777 -102.4756 0        ENSG00000122122.9  SASH3  "
            ]
          },
          "metadata": {}
        }
      ]
    },
    {
      "cell_type": "markdown",
      "source": [
        "The positive estimated coefficient of around 2 for MT-ATP6 suggests it is more highly expressed in brain tissue compared to in blood (roughly two standard deviations over the expression in blood on average). It made senset hat MT-ATP6 is expressed more in brain because brain consumes a lot of energy and have more mitochondrions.\n",
        "\n",
        "The negative coefficients estimates of around 2 for UBA52, LAPTM5, UBA52, RAC2 and CD37 indicate higher expression in blood (expression in brain is roughly two standard deviations below blood on average). It made sense that CD37 is expressed more in blood as it is a Leukocyte antigen.\n",
        "\n"
      ],
      "metadata": {
        "id": "_WMH-v8LTi4S"
      }
    },
    {
      "cell_type": "markdown",
      "source": [
        "### Logistic regression predicting sex from gene expression"
      ],
      "metadata": {
        "id": "h-1CsjlDjwDl"
      }
    },
    {
      "cell_type": "code",
      "source": [
        "subset_gtex_v8_target <- gtex_v8_target |>\n",
        "  dplyr::filter(SMTS == \"Blood\") |>\n",
        "  dplyr::mutate(SEX = ifelse(SEX == 2, 1, 0))\n",
        "\n",
        "# Scale the gene expression data for the subset\n",
        "Y_scale <- scale(Y[subset_gtex_v8_target$SAMPID, ])\n",
        "\n",
        "# Perform logistic regression for each gene\n",
        "results <- lapply(1:ncol(Y_scale), function(i) {\n",
        "  gene_expression <- Y_scale[, i]\n",
        "  model <- glm(SEX ~ gene_expression, data = subset_gtex_v8_target, family = binomial)\n",
        "  summary(model)\n",
        "})"
      ],
      "metadata": {
        "colab": {
          "base_uri": "https://localhost:8080/"
        },
        "id": "9hga7B_HTuAj",
        "outputId": "66eef160-1bff-4332-9463-ed1ae6592d89"
      },
      "execution_count": 14,
      "outputs": [
        {
          "output_type": "stream",
          "name": "stderr",
          "text": [
            "Warning message:\n",
            "“glm.fit: fitted probabilities numerically 0 or 1 occurred”\n",
            "Warning message:\n",
            "“glm.fit: algorithm did not converge”\n",
            "Warning message:\n",
            "“glm.fit: fitted probabilities numerically 0 or 1 occurred”\n",
            "Warning message:\n",
            "“glm.fit: fitted probabilities numerically 0 or 1 occurred”\n",
            "Warning message:\n",
            "“glm.fit: fitted probabilities numerically 0 or 1 occurred”\n",
            "Warning message:\n",
            "“glm.fit: fitted probabilities numerically 0 or 1 occurred”\n"
          ]
        }
      ]
    },
    {
      "cell_type": "code",
      "source": [
        "coef_matrix <- coef(results[[1]])\n",
        "coef_row <- as.data.frame(coef(results[[i]]))[\"gene_expression\", ]"
      ],
      "metadata": {
        "id": "hK6dq8GAhZkx"
      },
      "execution_count": 15,
      "outputs": []
    },
    {
      "cell_type": "code",
      "source": [
        "sex_coefficients <- data.frame()\n",
        "\n",
        "for (i in 1:length(results)) {\n",
        "  coef_matrix <- coef(results[[i]])\n",
        "  if (\"gene_expression\" %in% rownames(coef_matrix)) {\n",
        "    coef_row <- as.data.frame(coef(results[[i]]))[\"gene_expression\", ]\n",
        "    coef_row[,1:2] = exp(coef_row[,1:2])\n",
        "    gene_name <- colnames(Y_scale)[i] # gene ensembl id\n",
        "    coef_row$Name <- gene_name\n",
        "    sex_coefficients <- rbind(sex_coefficients, coef_row)\n",
        "  }\n",
        "}\n",
        "rownames(sex_coefficients) <- NULL\n",
        "head(sex_coefficients)"
      ],
      "metadata": {
        "id": "rSU24LUkol8c",
        "colab": {
          "base_uri": "https://localhost:8080/",
          "height": 286
        },
        "outputId": "e0b5e033-f4a4-48a3-cb2d-19eacc8cd101"
      },
      "execution_count": 18,
      "outputs": [
        {
          "output_type": "display_data",
          "data": {
            "text/html": [
              "<table class=\"dataframe\">\n",
              "<caption>A data.frame: 6 × 5</caption>\n",
              "<thead>\n",
              "\t<tr><th></th><th scope=col>Estimate</th><th scope=col>Std. Error</th><th scope=col>z value</th><th scope=col>Pr(&gt;|z|)</th><th scope=col>Name</th></tr>\n",
              "\t<tr><th></th><th scope=col>&lt;dbl&gt;</th><th scope=col>&lt;dbl&gt;</th><th scope=col>&lt;dbl&gt;</th><th scope=col>&lt;dbl&gt;</th><th scope=col>&lt;chr&gt;</th></tr>\n",
              "</thead>\n",
              "<tbody>\n",
              "\t<tr><th scope=row>1</th><td>1.0287194</td><td>1.071302</td><td> 0.41110452</td><td>0.6809959</td><td>ENSG00000168137.15</td></tr>\n",
              "\t<tr><th scope=row>2</th><td>0.9802623</td><td>1.072168</td><td>-0.28608453</td><td>0.7748134</td><td>ENSG00000144550.12</td></tr>\n",
              "\t<tr><th scope=row>3</th><td>0.8902385</td><td>1.075181</td><td>-1.60390247</td><td>0.1087356</td><td>ENSG00000134072.10</td></tr>\n",
              "\t<tr><th scope=row>4</th><td>1.0658108</td><td>1.071255</td><td> 0.92598060</td><td>0.3544561</td><td>ENSG00000171148.13</td></tr>\n",
              "\t<tr><th scope=row>5</th><td>1.0618048</td><td>1.071377</td><td> 0.86983394</td><td>0.3843912</td><td>ENSG00000241553.12</td></tr>\n",
              "\t<tr><th scope=row>6</th><td>1.0026704</td><td>1.071708</td><td> 0.03850868</td><td>0.9692821</td><td>ENSG00000163703.17</td></tr>\n",
              "</tbody>\n",
              "</table>\n"
            ],
            "text/markdown": "\nA data.frame: 6 × 5\n\n| <!--/--> | Estimate &lt;dbl&gt; | Std. Error &lt;dbl&gt; | z value &lt;dbl&gt; | Pr(&gt;|z|) &lt;dbl&gt; | Name &lt;chr&gt; |\n|---|---|---|---|---|---|\n| 1 | 1.0287194 | 1.071302 |  0.41110452 | 0.6809959 | ENSG00000168137.15 |\n| 2 | 0.9802623 | 1.072168 | -0.28608453 | 0.7748134 | ENSG00000144550.12 |\n| 3 | 0.8902385 | 1.075181 | -1.60390247 | 0.1087356 | ENSG00000134072.10 |\n| 4 | 1.0658108 | 1.071255 |  0.92598060 | 0.3544561 | ENSG00000171148.13 |\n| 5 | 1.0618048 | 1.071377 |  0.86983394 | 0.3843912 | ENSG00000241553.12 |\n| 6 | 1.0026704 | 1.071708 |  0.03850868 | 0.9692821 | ENSG00000163703.17 |\n\n",
            "text/latex": "A data.frame: 6 × 5\n\\begin{tabular}{r|lllll}\n  & Estimate & Std. Error & z value & Pr(>\\textbar{}z\\textbar{}) & Name\\\\\n  & <dbl> & <dbl> & <dbl> & <dbl> & <chr>\\\\\n\\hline\n\t1 & 1.0287194 & 1.071302 &  0.41110452 & 0.6809959 & ENSG00000168137.15\\\\\n\t2 & 0.9802623 & 1.072168 & -0.28608453 & 0.7748134 & ENSG00000144550.12\\\\\n\t3 & 0.8902385 & 1.075181 & -1.60390247 & 0.1087356 & ENSG00000134072.10\\\\\n\t4 & 1.0658108 & 1.071255 &  0.92598060 & 0.3544561 & ENSG00000171148.13\\\\\n\t5 & 1.0618048 & 1.071377 &  0.86983394 & 0.3843912 & ENSG00000241553.12\\\\\n\t6 & 1.0026704 & 1.071708 &  0.03850868 & 0.9692821 & ENSG00000163703.17\\\\\n\\end{tabular}\n",
            "text/plain": [
              "  Estimate  Std. Error z value     Pr(>|z|)  Name              \n",
              "1 1.0287194 1.071302    0.41110452 0.6809959 ENSG00000168137.15\n",
              "2 0.9802623 1.072168   -0.28608453 0.7748134 ENSG00000144550.12\n",
              "3 0.8902385 1.075181   -1.60390247 0.1087356 ENSG00000134072.10\n",
              "4 1.0658108 1.071255    0.92598060 0.3544561 ENSG00000171148.13\n",
              "5 1.0618048 1.071377    0.86983394 0.3843912 ENSG00000241553.12\n",
              "6 1.0026704 1.071708    0.03850868 0.9692821 ENSG00000163703.17"
            ]
          },
          "metadata": {}
        }
      ]
    },
    {
      "cell_type": "code",
      "source": [
        "top_DEGs <- sex_coefficients |>\n",
        "  dplyr::arrange(desc(abs(`z value`))) |>\n",
        "  head(5) |>\n",
        "  dplyr::left_join(gtex_v8_gene_id_to_symbol, by = \"Name\")\n",
        "top_DEGs"
      ],
      "metadata": {
        "colab": {
          "base_uri": "https://localhost:8080/",
          "height": 254
        },
        "id": "SYqATOobol5u",
        "outputId": "5ed0bc8c-90af-4d21-e4a3-c454de5adddd"
      },
      "execution_count": 19,
      "outputs": [
        {
          "output_type": "display_data",
          "data": {
            "text/html": [
              "<table class=\"dataframe\">\n",
              "<caption>A data.frame: 5 × 6</caption>\n",
              "<thead>\n",
              "\t<tr><th scope=col>Estimate</th><th scope=col>Std. Error</th><th scope=col>z value</th><th scope=col>Pr(&gt;|z|)</th><th scope=col>Name</th><th scope=col>Symbol</th></tr>\n",
              "\t<tr><th scope=col>&lt;dbl&gt;</th><th scope=col>&lt;dbl&gt;</th><th scope=col>&lt;dbl&gt;</th><th scope=col>&lt;dbl&gt;</th><th scope=col>&lt;chr&gt;</th><th scope=col>&lt;chr&gt;</th></tr>\n",
              "</thead>\n",
              "<tbody>\n",
              "\t<tr><td>4.155169e+159</td><td>2.376347e+17</td><td> 9.186200</td><td>4.069629e-20</td><td>ENSG00000229807.10</td><td>XIST </td></tr>\n",
              "\t<tr><td> 1.822809e+00</td><td>1.077373e+00</td><td> 8.056000</td><td>7.883178e-16</td><td>ENSG00000126012.11</td><td>KDM5C</td></tr>\n",
              "\t<tr><td> 1.623546e+00</td><td>1.073216e+00</td><td> 6.858359</td><td>6.965598e-12</td><td>ENSG00000198034.10</td><td>RPS4X</td></tr>\n",
              "\t<tr><td> 1.595803e+00</td><td>1.073604e+00</td><td> 6.580825</td><td>4.678460e-11</td><td>ENSG00000215301.9 </td><td>DDX3X</td></tr>\n",
              "\t<tr><td> 4.019652e-98</td><td>1.313242e+16</td><td>-6.042544</td><td>1.517028e-09</td><td>ENSG00000067048.16</td><td>DDX3Y</td></tr>\n",
              "</tbody>\n",
              "</table>\n"
            ],
            "text/markdown": "\nA data.frame: 5 × 6\n\n| Estimate &lt;dbl&gt; | Std. Error &lt;dbl&gt; | z value &lt;dbl&gt; | Pr(&gt;|z|) &lt;dbl&gt; | Name &lt;chr&gt; | Symbol &lt;chr&gt; |\n|---|---|---|---|---|---|\n| 4.155169e+159 | 2.376347e+17 |  9.186200 | 4.069629e-20 | ENSG00000229807.10 | XIST  |\n|  1.822809e+00 | 1.077373e+00 |  8.056000 | 7.883178e-16 | ENSG00000126012.11 | KDM5C |\n|  1.623546e+00 | 1.073216e+00 |  6.858359 | 6.965598e-12 | ENSG00000198034.10 | RPS4X |\n|  1.595803e+00 | 1.073604e+00 |  6.580825 | 4.678460e-11 | ENSG00000215301.9  | DDX3X |\n|  4.019652e-98 | 1.313242e+16 | -6.042544 | 1.517028e-09 | ENSG00000067048.16 | DDX3Y |\n\n",
            "text/latex": "A data.frame: 5 × 6\n\\begin{tabular}{llllll}\n Estimate & Std. Error & z value & Pr(>\\textbar{}z\\textbar{}) & Name & Symbol\\\\\n <dbl> & <dbl> & <dbl> & <dbl> & <chr> & <chr>\\\\\n\\hline\n\t 4.155169e+159 & 2.376347e+17 &  9.186200 & 4.069629e-20 & ENSG00000229807.10 & XIST \\\\\n\t  1.822809e+00 & 1.077373e+00 &  8.056000 & 7.883178e-16 & ENSG00000126012.11 & KDM5C\\\\\n\t  1.623546e+00 & 1.073216e+00 &  6.858359 & 6.965598e-12 & ENSG00000198034.10 & RPS4X\\\\\n\t  1.595803e+00 & 1.073604e+00 &  6.580825 & 4.678460e-11 & ENSG00000215301.9  & DDX3X\\\\\n\t  4.019652e-98 & 1.313242e+16 & -6.042544 & 1.517028e-09 & ENSG00000067048.16 & DDX3Y\\\\\n\\end{tabular}\n",
            "text/plain": [
              "  Estimate      Std. Error   z value   Pr(>|z|)     Name               Symbol\n",
              "1 4.155169e+159 2.376347e+17  9.186200 4.069629e-20 ENSG00000229807.10 XIST  \n",
              "2  1.822809e+00 1.077373e+00  8.056000 7.883178e-16 ENSG00000126012.11 KDM5C \n",
              "3  1.623546e+00 1.073216e+00  6.858359 6.965598e-12 ENSG00000198034.10 RPS4X \n",
              "4  1.595803e+00 1.073604e+00  6.580825 4.678460e-11 ENSG00000215301.9  DDX3X \n",
              "5  4.019652e-98 1.313242e+16 -6.042544 1.517028e-09 ENSG00000067048.16 DDX3Y "
            ]
          },
          "metadata": {}
        }
      ]
    },
    {
      "cell_type": "markdown",
      "source": [
        "High magnitude (>>2) of the exponentiated coefficient estimate of XIST relative to the other genes with positive coefficient estimates indicate that its over expression is very strongly associated with the female sex without correcting for any other covariatess with a crazy big odds ratio. The smaller magnitude of exponentiated coefficient estaimates for KDM5C, RPS4X, DDX3X, UBA1 of ranging from 1.5 to 1.8 represent a 50 to 80% increase odds of being female comparing individuals who differ in 1 sd of gene expression, correcting for no other covariates. These results make sense as XIST, KDM5C, RPS4X, DDX3X, UBA1 are located on the X chromosome so females might have more expression of these genes provided that they are less impacted by X-chromosome deactivation.\n",
        "\n",
        "The close to zero of the exponentiated coefficient estimate for DDX3Y suggest that the the high expression of this gene is strongly negatively associated with being female. This made sense as DDX3Y is on Y chromosome and expressed only in male, and every 1 sd increase in expression of DDX3Y is asscoiated with almost 100% decreased odds of being a female."
      ],
      "metadata": {
        "id": "QUpKO96AqPPH"
      }
    }
  ]
}